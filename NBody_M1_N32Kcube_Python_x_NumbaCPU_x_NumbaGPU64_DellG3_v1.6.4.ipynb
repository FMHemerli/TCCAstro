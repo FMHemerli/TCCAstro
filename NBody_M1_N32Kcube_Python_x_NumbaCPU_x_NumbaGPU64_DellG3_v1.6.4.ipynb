{
 "cells": [
  {
   "cell_type": "markdown",
   "metadata": {
    "colab_type": "text",
    "id": "e2RnaZ0dfILD"
   },
   "source": [
    "# <center> N-Body gravitacional em Python x Python NumPy x </center>\n",
    "# <center> Python Numba CPU x Python Numba CPU // x Python Numba GPU 64 bits </center>\n",
    "## <center> v1.6.4 - 22/11/2018 a 06/03/2019 </center>\n",
    "## <center> $M = 1$ passo, $dt = 0.01$, $N = 32^3 = 32K$ corpos em cubo homogêneo</center>"
   ]
  },
  {
   "cell_type": "markdown",
   "metadata": {
    "colab_type": "text",
    "heading_collapsed": true,
    "id": "T9vdWw-GfILF"
   },
   "source": [
    "### Autoria da v1.0, v1.3, v1.4, 1.6 : Flávio Manoel Santos Hemerli\n",
    "#### Revisão v1.1, v1.2, v1.3.1, v1.4.1, v1.4.6-9, v1.5.0-6, v1.6.2-4 : Roberto Colistete Júnior"
   ]
  },
  {
   "cell_type": "markdown",
   "metadata": {
    "colab_type": "text",
    "hidden": true,
    "id": "NmHlEn0yfILH"
   },
   "source": [
    "Computador do prof. Roberto Colistete Jr. :  \n",
    "**Notebook Dell XPS 15** com CPU [**Intel Core i7 2670QM**](https://ark.intel.com/products/53469/Intel-Core-i7-2670QM-Processor-6M-Cache-up-to-3-10-GHz-) 2,2-3,1 GHz 4 cores/8 threads 6MB cache com GPU integrada Intel HD Graphics 3000 & GPU dedicada [**NVidia GeForce GPU GT 540M**](https://www.geforce.com/hardware/notebook-gpus/geforce-gt-540m/specifications) 2GB 96 cores CC2.1.  \n",
    "Manjaro KDE 18.0.2 64 bits, kernel 4.20.3, gcc 8.2.1, driver NVidia 390.87, CUDA 8.0.  \n",
    "Anaconda 3 2018-12, Python 3.7.1, NumPy 1.15.4, PyCUDA 2018.1.1 (Python 2.7.15), Numba 0.41.0 com CUDAToolkit 8.0."
   ]
  },
  {
   "cell_type": "markdown",
   "metadata": {
    "colab_type": "text",
    "hidden": true,
    "id": "w3YBr1th0Hr4"
   },
   "source": [
    "Computador do prof. Roberto Colistete Jr. :  \n",
    "-> **Notebook Dell G3 15 3579** com CPU [**Intel Core i7 8750H**](https://ark.intel.com/products/134906/Intel-Core-i7-8750H-Processor-9M-Cache-up-to-4-10-GHz-) Kaby Lake 2,2-4,1 GHz 6 cores/12 threads 9MB cache com GPU integrada Intel UHD Graphics 630 & GPU dedicada [**NVidia GeForce GTX 1050 Ti Mobile**](https://www.nvidia.com/en-us/geforce/products/10series/laptops/) 4GB 768 cores CC6.1.   \n",
    "Manjaro KDE 18.0.3 64 bits, kernel 4.20.11, gcc 8.2.1, driver NVidia 415.25, CUDA 10.0.  \n",
    "Anaconda 3 2018-12, Python 3.7.1, NumPy 1.15.4, PyCUDA 2018.1.1 (Python 2.7.15), Numba 0.41.0 com CUDAToolkit 9.2."
   ]
  },
  {
   "cell_type": "markdown",
   "metadata": {
    "colab_type": "text",
    "hidden": true,
    "id": "Rcjl0LPrfILJ"
   },
   "source": [
    "Computador do aluno Flávio Manoel Santos Hemerli:   \n",
    "**Notebook Lenovo Ideapad 320** com CPU [**Intel Core i5 7200U**](https://ark.intel.com/pt-br/products/95443/Intel-Core-i5-7200U-Processor-3M-Cache-up-to-3-10-GHz-) 2,5-3,1 GHz 2 cores/4 threads 3MB cache com GPU integrada Intel HD Graphics 620. 8GB RAM DDR4 2133MHz Dual Channel.  \n",
    "Manjaro Deepin 18.0 64 bits. Anaconda 3 2018-12, Python 3.7.1, NumPy 1.15.4, Numba 0.41.0"
   ]
  },
  {
   "cell_type": "markdown",
   "metadata": {
    "colab_type": "text",
    "hidden": true,
    "id": "qkzFx3MQxyeC"
   },
   "source": [
    "**Computador na nuvem Google Colab(oratory)** :  \n",
    "Servidor com CPU [**Intel Xeon** E5-2699 (ou semelhante)](https://ark.intel.com/pt-br/products/81061/Intel-Xeon-Processor-E5-2699-v3-45M-Cache-2-30-GHz-) 2,3-3,6 GHz 18 cores/36 threads 45MB cache & GPU dedicada [**NVidia Tesla K80**](https://www.nvidia.com.br/object/tesla-k80-br.html) 24GB 2x2496 cores CC3.7.  \n",
    "Acessível via Google Colab : Xeon 2 cores 12-13GB de RAM, K80 com (possivelmente) 2496 cores e 11GB de RAM.\n",
    "Ubuntu 18.04.1 64 bits. Python 3.6.7, NumPy 1.14.6, Numba 0.40.1 com CUDA 9.2."
   ]
  },
  {
   "cell_type": "markdown",
   "metadata": {
    "colab_type": "text",
    "heading_collapsed": true,
    "id": "x80NgcamfILK"
   },
   "source": [
    "### Inicialização"
   ]
  },
  {
   "cell_type": "code",
   "execution_count": 1,
   "metadata": {
    "ExecuteTime": {
     "end_time": "2019-03-06T19:40:17.663791Z",
     "start_time": "2019-03-06T19:40:17.214230Z"
    },
    "colab": {},
    "colab_type": "code",
    "hidden": true,
    "id": "abt2D3EOfILL"
   },
   "outputs": [],
   "source": [
    "import math\n",
    "import numpy as np\n",
    "from timeit import default_timer as timer\n",
    "import numba as nb\n",
    "from numba import jit, njit, prange, cuda"
   ]
  },
  {
   "cell_type": "markdown",
   "metadata": {
    "colab_type": "text",
    "heading_collapsed": true,
    "id": "EAOI7UXifILQ"
   },
   "source": [
    "### Informação sobre versão de Linux, CPU :"
   ]
  },
  {
   "cell_type": "code",
   "execution_count": 2,
   "metadata": {
    "ExecuteTime": {
     "end_time": "2019-03-06T19:40:19.322973Z",
     "start_time": "2019-03-06T19:40:18.984041Z"
    },
    "colab": {
     "base_uri": "https://localhost:8080/",
     "height": 34
    },
    "colab_type": "code",
    "hidden": true,
    "id": "wMXtCG4YfILR",
    "outputId": "774d2de5-8d3e-4005-d489-780d0e8ad1df"
   },
   "outputs": [
    {
     "name": "stdout",
     "output_type": "stream",
     "text": [
      "Linux nautilus9 4.20.11-1-MANJARO #1 SMP PREEMPT Wed Feb 20 23:19:36 UTC 2019 x86_64 GNU/Linux\r\n"
     ]
    }
   ],
   "source": [
    "!uname -a"
   ]
  },
  {
   "cell_type": "code",
   "execution_count": 3,
   "metadata": {
    "ExecuteTime": {
     "end_time": "2019-03-06T19:40:19.908630Z",
     "start_time": "2019-03-06T19:40:19.559899Z"
    },
    "colab": {
     "base_uri": "https://localhost:8080/",
     "height": 101
    },
    "colab_type": "code",
    "hidden": true,
    "id": "D8_7xQftfILX",
    "outputId": "9b4f387c-e0bc-486b-bbc6-3f5b85041cde",
    "scrolled": false
   },
   "outputs": [
    {
     "name": "stdout",
     "output_type": "stream",
     "text": [
      "LSB Version:\tn/a\r\n",
      "Distributor ID:\tManjaroLinux\r\n",
      "Description:\tManjaro Linux\r\n",
      "Release:\t18.0.3\r\n",
      "Codename:\tIllyria\r\n"
     ]
    }
   ],
   "source": [
    "!lsb_release -a"
   ]
  },
  {
   "cell_type": "code",
   "execution_count": 4,
   "metadata": {
    "ExecuteTime": {
     "end_time": "2019-03-06T19:40:54.626248Z",
     "start_time": "2019-03-06T19:40:54.265919Z"
    },
    "colab": {
     "base_uri": "https://localhost:8080/",
     "height": 440
    },
    "colab_type": "code",
    "hidden": true,
    "id": "N1tcOTaaXlzZ",
    "outputId": "d7245a08-da90-4fc4-e45d-14332bfca7a6"
   },
   "outputs": [
    {
     "name": "stdout",
     "output_type": "stream",
     "text": [
      "Arquitetura:                x86_64\r\n",
      "Modo(s) operacional da CPU: 32-bit, 64-bit\r\n",
      "Ordem dos bytes:            Little Endian\r\n",
      "Tamanhos de endereço:       39 bits physical, 48 bits virtual\r\n",
      "CPU(s):                     12\r\n",
      "Lista de CPU(s) on-line:    0-11\r\n",
      "Thread(s) per núcleo:       2\r\n",
      "Núcleo(s) por soquete:      6\r\n",
      "Soquete(s):                 1\r\n",
      "Nó(s) de NUMA:              1\r\n",
      "ID de fornecedor:           GenuineIntel\r\n",
      "Família da CPU:             6\r\n",
      "Modelo:                     158\r\n",
      "Nome do modelo:             Intel(R) Core(TM) i7-8750H CPU @ 2.20GHz\r\n",
      "Step:                       10\r\n",
      "CPU MHz:                    4056.730\r\n",
      "CPU MHz máx.:               4100,0000\r\n",
      "CPU MHz mín.:               800,0000\r\n",
      "BogoMIPS:                   4417.00\r\n",
      "Virtualização:              VT-x\r\n",
      "cache de L1d:               32K\r\n",
      "cache de L1i:               32K\r\n",
      "cache de L2:                256K\r\n",
      "cache de L3:                9216K\r\n",
      "CPU(s) de nó0 NUMA:         0-11\r\n",
      "Opções:                     fpu vme de pse tsc msr pae mce cx8 apic sep mtrr pge mca cmov pat pse36 clflush dts acpi mmx fxsr sse sse2 ss ht tm pbe syscall nx pdpe1gb rdtscp lm constant_tsc art arch_perfmon pebs bts rep_good nopl xtopology nonstop_tsc cpuid aperfmperf tsc_known_freq pni pclmulqdq dtes64 monitor ds_cpl vmx est tm2 ssse3 sdbg fma cx16 xtpr pdcm pcid sse4_1 sse4_2 x2apic movbe popcnt tsc_deadline_timer aes xsave avx f16c rdrand lahf_lm abm 3dnowprefetch cpuid_fault epb invpcid_single pti ssbd ibrs ibpb stibp tpr_shadow vnmi flexpriority ept vpid ept_ad fsgsbase tsc_adjust bmi1 avx2 smep bmi2 erms invpcid mpx rdseed adx smap clflushopt intel_pt xsaveopt xsavec xgetbv1 xsaves dtherm ida arat pln pts hwp hwp_notify hwp_act_window hwp_epp flush_l1d\r\n"
     ]
    }
   ],
   "source": [
    "!lscpu"
   ]
  },
  {
   "cell_type": "markdown",
   "metadata": {
    "colab_type": "text",
    "hidden": true,
    "id": "f7dTVS8qXlzd"
   },
   "source": [
    "Versão de Numba :"
   ]
  },
  {
   "cell_type": "code",
   "execution_count": 5,
   "metadata": {
    "ExecuteTime": {
     "end_time": "2019-03-06T19:41:01.145221Z",
     "start_time": "2019-03-06T19:41:01.138548Z"
    },
    "colab": {
     "base_uri": "https://localhost:8080/",
     "height": 34
    },
    "colab_type": "code",
    "hidden": true,
    "id": "tFcQaVpZXlzf",
    "outputId": "63657bf5-ac92-4033-873b-4675821e406c"
   },
   "outputs": [
    {
     "data": {
      "text/plain": [
       "'0.41.0'"
      ]
     },
     "execution_count": 5,
     "metadata": {},
     "output_type": "execute_result"
    }
   ],
   "source": [
    "nb.__version__"
   ]
  },
  {
   "cell_type": "code",
   "execution_count": 6,
   "metadata": {
    "ExecuteTime": {
     "end_time": "2019-03-06T19:41:02.318835Z",
     "start_time": "2019-03-06T19:41:02.316138Z"
    },
    "colab": {
     "base_uri": "https://localhost:8080/",
     "height": 34
    },
    "colab_type": "code",
    "hidden": true,
    "id": "SFb-mpxhXlzj",
    "outputId": "fb106440-dcf9-4bc7-a824-9479b7838a00"
   },
   "outputs": [
    {
     "data": {
      "text/plain": [
       "12"
      ]
     },
     "execution_count": 6,
     "metadata": {},
     "output_type": "execute_result"
    }
   ],
   "source": [
    "nb.config.NUMBA_DEFAULT_NUM_THREADS"
   ]
  },
  {
   "cell_type": "markdown",
   "metadata": {
    "colab_type": "text",
    "hidden": true,
    "id": "UBLOxEKcfILh"
   },
   "source": [
    "Versão de gcc :"
   ]
  },
  {
   "cell_type": "code",
   "execution_count": 7,
   "metadata": {
    "ExecuteTime": {
     "end_time": "2019-03-06T19:41:04.190959Z",
     "start_time": "2019-03-06T19:41:03.854786Z"
    },
    "colab": {
     "base_uri": "https://localhost:8080/",
     "height": 101
    },
    "colab_type": "code",
    "hidden": true,
    "id": "boCzfvuufILi",
    "outputId": "38105e51-8841-475c-df60-4d0870dddd81"
   },
   "outputs": [
    {
     "name": "stdout",
     "output_type": "stream",
     "text": [
      "gcc (GCC) 8.2.1 20181127\r\n",
      "Copyright (C) 2018 Free Software Foundation, Inc.\r\n",
      "This is free software; see the source for copying conditions.  There is NO\r\n",
      "warranty; not even for MERCHANTABILITY or FITNESS FOR A PARTICULAR PURPOSE.\r\n",
      "\r\n"
     ]
    }
   ],
   "source": [
    "!gcc --version"
   ]
  },
  {
   "cell_type": "markdown",
   "metadata": {
    "colab_type": "text",
    "hidden": true,
    "id": "AArlEBiGfILn"
   },
   "source": [
    "Versão de Python :"
   ]
  },
  {
   "cell_type": "code",
   "execution_count": 8,
   "metadata": {
    "ExecuteTime": {
     "end_time": "2019-03-06T19:41:08.444575Z",
     "start_time": "2019-03-06T19:41:08.102621Z"
    },
    "colab": {
     "base_uri": "https://localhost:8080/",
     "height": 34
    },
    "colab_type": "code",
    "hidden": true,
    "id": "bF48TQpnfILo",
    "outputId": "3b88128b-5fee-4673-cd75-b68511f3ef12",
    "scrolled": true
   },
   "outputs": [
    {
     "name": "stdout",
     "output_type": "stream",
     "text": [
      "Python 3.7.1\r\n"
     ]
    }
   ],
   "source": [
    "!python --version"
   ]
  },
  {
   "cell_type": "markdown",
   "metadata": {
    "colab_type": "text",
    "hidden": true,
    "id": "kMKtbq_tfILt"
   },
   "source": [
    "Versão de NumPy :"
   ]
  },
  {
   "cell_type": "code",
   "execution_count": 9,
   "metadata": {
    "ExecuteTime": {
     "end_time": "2019-03-06T19:41:09.443378Z",
     "start_time": "2019-03-06T19:41:09.440654Z"
    },
    "colab": {
     "base_uri": "https://localhost:8080/",
     "height": 34
    },
    "colab_type": "code",
    "hidden": true,
    "id": "hFxDTbsefILu",
    "outputId": "52accc4a-8da5-41e6-d8bd-05e71fa1030d"
   },
   "outputs": [
    {
     "data": {
      "text/plain": [
       "'1.15.4'"
      ]
     },
     "execution_count": 9,
     "metadata": {},
     "output_type": "execute_result"
    }
   ],
   "source": [
    "np.__version__"
   ]
  },
  {
   "cell_type": "markdown",
   "metadata": {
    "colab_type": "text",
    "heading_collapsed": true,
    "id": "7rD2D7AeXlzo"
   },
   "source": [
    "### Informação sobre GPU/CUDA :"
   ]
  },
  {
   "cell_type": "code",
   "execution_count": 10,
   "metadata": {
    "ExecuteTime": {
     "end_time": "2019-03-06T19:41:33.197008Z",
     "start_time": "2019-03-06T19:41:33.145419Z"
    },
    "colab": {
     "base_uri": "https://localhost:8080/",
     "height": 34
    },
    "colab_type": "code",
    "hidden": true,
    "id": "jzriGE05Xlzp",
    "outputId": "0f840c16-7f38-4d24-ee90-befa6e91396c"
   },
   "outputs": [
    {
     "name": "stdout",
     "output_type": "stream",
     "text": [
      "<Managed Device 0>\n"
     ]
    }
   ],
   "source": [
    "print(cuda.gpus)"
   ]
  },
  {
   "cell_type": "code",
   "execution_count": 11,
   "metadata": {
    "ExecuteTime": {
     "end_time": "2019-03-06T19:41:33.832173Z",
     "start_time": "2019-03-06T19:41:33.828738Z"
    },
    "colab": {
     "base_uri": "https://localhost:8080/",
     "height": 34
    },
    "colab_type": "code",
    "hidden": true,
    "id": "MXv4i8XWXlzv",
    "outputId": "b5e1169a-ee07-4b83-b9cf-5ab7178a3860"
   },
   "outputs": [
    {
     "data": {
      "text/plain": [
       "True"
      ]
     },
     "execution_count": 11,
     "metadata": {},
     "output_type": "execute_result"
    }
   ],
   "source": [
    "cuda.is_available()"
   ]
  },
  {
   "cell_type": "code",
   "execution_count": 12,
   "metadata": {
    "ExecuteTime": {
     "end_time": "2019-03-06T19:41:34.441880Z",
     "start_time": "2019-03-06T19:41:34.437506Z"
    },
    "colab": {
     "base_uri": "https://localhost:8080/",
     "height": 151
    },
    "colab_type": "code",
    "hidden": true,
    "id": "io7uyntVXlzy",
    "outputId": "61c0e8af-9dc5-4657-897a-0b74474aae0b"
   },
   "outputs": [
    {
     "name": "stdout",
     "output_type": "stream",
     "text": [
      "Found 1 CUDA devices\n",
      "id 0    b'GeForce GTX 1050 Ti'                              [SUPPORTED]\n",
      "                      compute capability: 6.1\n",
      "                           pci device id: 0\n",
      "                              pci bus id: 1\n",
      "Summary:\n",
      "\t1/1 devices are supported\n"
     ]
    },
    {
     "data": {
      "text/plain": [
       "True"
      ]
     },
     "execution_count": 12,
     "metadata": {},
     "output_type": "execute_result"
    }
   ],
   "source": [
    "cuda.detect()"
   ]
  },
  {
   "cell_type": "code",
   "execution_count": 13,
   "metadata": {
    "ExecuteTime": {
     "end_time": "2019-03-06T19:41:38.627899Z",
     "start_time": "2019-03-06T19:41:38.553979Z"
    },
    "colab": {
     "base_uri": "https://localhost:8080/",
     "height": 34
    },
    "colab_type": "code",
    "hidden": true,
    "id": "zDXj8oMxXlz2",
    "outputId": "96c594b4-f755-4d72-cc24-fbc195ab4e99"
   },
   "outputs": [
    {
     "data": {
      "text/plain": [
       "b'GeForce GTX 1050 Ti'"
      ]
     },
     "execution_count": 13,
     "metadata": {},
     "output_type": "execute_result"
    }
   ],
   "source": [
    "cuda.select_device(0).name"
   ]
  },
  {
   "cell_type": "code",
   "execution_count": 14,
   "metadata": {
    "ExecuteTime": {
     "end_time": "2019-03-06T19:41:39.133754Z",
     "start_time": "2019-03-06T19:41:39.130620Z"
    },
    "colab": {
     "base_uri": "https://localhost:8080/",
     "height": 34
    },
    "colab_type": "code",
    "hidden": true,
    "id": "sdLhQYhvXlz6",
    "outputId": "a478c740-0db2-4961-9783-4994b3f9a4ed"
   },
   "outputs": [
    {
     "data": {
      "text/plain": [
       "(6, 1)"
      ]
     },
     "execution_count": 14,
     "metadata": {},
     "output_type": "execute_result"
    }
   ],
   "source": [
    "cuda.get_current_device().compute_capability"
   ]
  },
  {
   "cell_type": "code",
   "execution_count": 15,
   "metadata": {
    "ExecuteTime": {
     "end_time": "2019-03-06T19:41:40.963567Z",
     "start_time": "2019-03-06T19:41:40.960485Z"
    },
    "colab": {
     "base_uri": "https://localhost:8080/",
     "height": 34
    },
    "colab_type": "code",
    "hidden": true,
    "id": "0js4Lfl-Xl0D",
    "outputId": "45d59ba1-e0e2-4fdc-d74d-9b9e51cc1fe3"
   },
   "outputs": [
    {
     "data": {
      "text/plain": [
       "_MemoryInfo(free=4169269248, total=4236312576)"
      ]
     },
     "execution_count": 15,
     "metadata": {},
     "output_type": "execute_result"
    }
   ],
   "source": [
    "cuda.current_context(1).get_memory_info()"
   ]
  },
  {
   "cell_type": "markdown",
   "metadata": {
    "colab_type": "text",
    "id": "8PBNPDBx0HxC"
   },
   "source": [
    "## Definições de nbody para Python puro, NumPy, Numba CPU, Numba CPU // e Numba GPU"
   ]
  },
  {
   "cell_type": "code",
   "execution_count": 16,
   "metadata": {
    "ExecuteTime": {
     "end_time": "2019-03-06T19:41:53.285858Z",
     "start_time": "2019-03-06T19:41:53.283766Z"
    },
    "colab": {},
    "colab_type": "code",
    "id": "VF-GC1E60HxE"
   },
   "outputs": [],
   "source": [
    "G = 6.67408*1e-11 # define a constante gravitacional\n",
    "sft = 1e-10 # define a constante de atenuamento para tratamento das singularidades"
   ]
  },
  {
   "cell_type": "code",
   "execution_count": 17,
   "metadata": {
    "ExecuteTime": {
     "end_time": "2019-03-06T19:41:53.851979Z",
     "start_time": "2019-03-06T19:41:53.764020Z"
    },
    "code_folding": [],
    "colab": {},
    "colab_type": "code",
    "id": "qIzNIpOv0HxN"
   },
   "outputs": [],
   "source": [
    "@njit\n",
    "def gravitationalNbody_NumbaCPU(r, v, a, m, nobj, ninter, dt, flag_Energy=False):\n",
    "    for inter in range(ninter):\n",
    "        for i in range(nobj):\n",
    "            a[i][0] = 0.0; a[i][1] = 0.0; a[i][2] = 0.0\n",
    "            for j in range(nobj):\n",
    "                if i != j:\n",
    "                    # calculate a_ij acceleration\n",
    "                    dx = r[j][0] - r[i][0]; dy = r[j][1] - r[i][1]; dz = r[j][2] - r[i][2]\n",
    "                    dsq = dx*dx + dy*dy + dz*dz + sft*sft\n",
    "                    gA = (G*m[j])/(dsq*math.sqrt(dsq))\n",
    "                    # sum a_ij_x to a_i_x, etc\n",
    "                    a[i][0] += gA*dx; a[i][1] += gA*dy; a[i][2] += gA*dz\n",
    "            # update the v_i velocity\n",
    "            v[i][0] += a[i][0]*dt; v[i][1] += a[i][1]*dt; v[i][2] += a[i][2]*dt\n",
    "        for i in range(nobj):\n",
    "            # update the r_i position\n",
    "            r[i][0] += v[i][0]*dt; r[i][1] += v[i][1]*dt; r[i][2] += v[i][2]*dt\n",
    "    K = 0.0; U = 0.0\n",
    "    if flag_Energy:\n",
    "        for i in range(nobj):\n",
    "            # Sum the total kinectic energy\n",
    "            K += 0.5*m[i]*(v[i][0]**2 + v[i][1]**2 + v[i][2]**2)\n",
    "            for j in range(nobj):\n",
    "                if (i < j):\n",
    "                    # Sum the total potential energy\n",
    "                    U += (-G*m[i]*m[j])/math.sqrt((r[j][0] - r[i][0])**2 + (r[j][1] - r[i][1])**2 + \n",
    "                                                  (r[j][2] - r[i][2])**2 + sft**2)\n",
    "    return K, U"
   ]
  },
  {
   "cell_type": "code",
   "execution_count": 18,
   "metadata": {
    "ExecuteTime": {
     "end_time": "2019-03-06T19:41:54.283963Z",
     "start_time": "2019-03-06T19:41:54.273441Z"
    },
    "code_folding": [],
    "colab": {},
    "colab_type": "code",
    "id": "GEGiujCE0HxY"
   },
   "outputs": [],
   "source": [
    "@njit(parallel=True)\n",
    "def gravitationalNbody_NumbaCPUparallel(r, v, a, m, nobj, ninter, dt, flag_Energy=False):\n",
    "    for inter in range(ninter):\n",
    "        for i in prange(nobj):\n",
    "            a[i][0] = 0.0; a[i][1] = 0.0; a[i][2] = 0.0\n",
    "            for j in range(nobj):\n",
    "                if i != j:\n",
    "                    # calculate a_ij acceleration\n",
    "                    dx = r[j][0] - r[i][0]; dy = r[j][1] - r[i][1]; dz = r[j][2] - r[i][2]\n",
    "                    dsq = dx*dx + dy*dy + dz*dz + sft*sft\n",
    "                    gA = (G*m[j])/(dsq*math.sqrt(dsq))\n",
    "                    # sum a_ij_x to a_i_x, etc\n",
    "                    a[i][0] += gA*dx; a[i][1] += gA*dy; a[i][2] += gA*dz\n",
    "            # update the v_i velocity\n",
    "            v[i][0] += a[i][0]*dt; v[i][1] += a[i][1]*dt; v[i][2] += a[i][2]*dt\n",
    "        for i in prange(nobj):\n",
    "            # update the r_i position\n",
    "            r[i][0] += v[i][0]*dt; r[i][1] += v[i][1]*dt; r[i][2] += v[i][2]*dt\n",
    "    K = 0.0; U = 0.0\n",
    "    if flag_Energy:\n",
    "        for i in prange(nobj):\n",
    "            # Sum the total kinectic energy\n",
    "            K += 0.5*m[i]*(v[i][0]**2 + v[i][1]**2 + v[i][2]**2)\n",
    "            for j in range(nobj):\n",
    "                if (i < j):\n",
    "                    # Sum the total potential energy\n",
    "                    U += (-G*m[i]*m[j])/math.sqrt((r[j][0] - r[i][0])**2 + (r[j][1] - r[i][1])**2 + \n",
    "                                                  (r[j][2] - r[i][2])**2 + sft**2)\n",
    "    return K, U"
   ]
  },
  {
   "cell_type": "code",
   "execution_count": 19,
   "metadata": {
    "ExecuteTime": {
     "end_time": "2019-03-06T19:41:54.485907Z",
     "start_time": "2019-03-06T19:41:54.479943Z"
    },
    "colab": {},
    "colab_type": "code",
    "id": "uSzqGZB-0Hxk"
   },
   "outputs": [],
   "source": [
    "@njit\n",
    "def gravitationalNbody_NumPy_NumbaCPU(r, v, a, m, nobj, ninter, dt, flag_Energy=False):\n",
    "    for inter in range(ninter):\n",
    "        # zero the a acceleration\n",
    "        a = np.zeros((nobj, 3))\n",
    "        for i in range(nobj):\n",
    "            # update the a acceleration\n",
    "            dr = r[i] - r\n",
    "            dsq = np.sum(dr*dr, axis=1) + sft*sft\n",
    "            gA = (G*m[i])/(dsq*np.sqrt(dsq))\n",
    "            a += (dr.T*gA).T\n",
    "        # update the v velocity\n",
    "        v += a*dt\n",
    "        # update the r position\n",
    "        r += v*dt\n",
    "    K = 0.0; U = 0.0\n",
    "    if flag_Energy:\n",
    "        # Sum the total kinetic energy\n",
    "        K = np.sum(0.5*m*np.sum(v*v, axis=1))\n",
    "        U = 0.0\n",
    "        for i in range(nobj):\n",
    "            for j in range(nobj):\n",
    "                if (i < j):\n",
    "                    # Sum the total potential energy\n",
    "                    U += (-G*m[i]*m[j])/math.sqrt((r[j][0] - r[i][0])**2 + (r[j][1] - r[i][1])**2 + \n",
    "                                                  (r[j][2] - r[i][2])**2 + sft**2)\n",
    "    return K, U"
   ]
  },
  {
   "cell_type": "code",
   "execution_count": 20,
   "metadata": {
    "ExecuteTime": {
     "end_time": "2019-03-06T19:41:54.681393Z",
     "start_time": "2019-03-06T19:41:54.674799Z"
    },
    "code_folding": [],
    "colab": {},
    "colab_type": "code",
    "id": "7lYomsBB0Hx2"
   },
   "outputs": [],
   "source": [
    "@njit(parallel=True)\n",
    "def gravitationalNbody_NumPy_NumbaCPUparallel(r, v, a, m, nobj, ninter, dt, flag_Energy=False):\n",
    "    for inter in range(ninter):\n",
    "        # zero the a acceleration\n",
    "        a = np.zeros((nobj, 3))\n",
    "        for i in prange(nobj):\n",
    "            # update the a acceleration\n",
    "            dr = r[i] - r\n",
    "            dsq = np.sum(dr*dr, axis=1) + sft*sft\n",
    "            gA = (G*m[i])/(dsq*np.sqrt(dsq))\n",
    "            a += (dr.T*gA).T\n",
    "        # update the v velocity\n",
    "        v += a*dt\n",
    "        # update the r position\n",
    "        r += v*dt\n",
    "    K = 0.0; U = 0.0\n",
    "    if flag_Energy:\n",
    "        K = np.sum(0.5*m*np.sum(v*v, axis=1))\n",
    "        U = 0.0\n",
    "        for i in prange(nobj):\n",
    "            for j in range(nobj):\n",
    "                if (i < j):\n",
    "                    # Sum the total potential energy\n",
    "                    U += (-G*m[i]*m[j])/math.sqrt((r[j][0] - r[i][0])**2 + (r[j][1] - r[i][1])**2 + \n",
    "                                                  (r[j][2] - r[i][2])**2 + sft**2)\n",
    "    return K, U"
   ]
  },
  {
   "cell_type": "code",
   "execution_count": 21,
   "metadata": {
    "ExecuteTime": {
     "end_time": "2019-03-06T19:41:55.222361Z",
     "start_time": "2019-03-06T19:41:54.900090Z"
    },
    "colab": {},
    "colab_type": "code",
    "id": "s8geOgb50HyO"
   },
   "outputs": [],
   "source": [
    "@cuda.jit(\"(float64[:,:], float64[:,:], float64[:,:], float64[:], int32, float64)\")\n",
    "def gravitationalNbody_a_v_ij_NumbaGPU64(r, v, a, m, nobj, dt):\n",
    "    i = cuda.grid(1)\n",
    "    if i < nobj:\n",
    "        a[i][0] = 0.0; a[i][1] = 0.0; a[i][2] = 0.0\n",
    "        for j in range(nobj):\n",
    "            if i != j:\n",
    "                dx = r[j][0] - r[i][0]; dy = r[j][1] - r[i][1]; dz = r[j][2] - r[i][2]\n",
    "                dsq = dx*dx + dy*dy + dz*dz + sft*sft\n",
    "                gA = (G*m[j])/(dsq*math.sqrt(dsq))\n",
    "                # sum a_ij_x to a_i_x, etc\n",
    "                a[i][0] += gA*dx; a[i][1] += gA*dy; a[i][2] += gA*dz\n",
    "        v[i][0] += a[i][0]*dt; v[i][1] += a[i][1]*dt; v[i][2] += a[i][2]*dt"
   ]
  },
  {
   "cell_type": "code",
   "execution_count": 22,
   "metadata": {
    "ExecuteTime": {
     "end_time": "2019-03-06T19:41:55.506375Z",
     "start_time": "2019-03-06T19:41:55.413711Z"
    },
    "colab": {},
    "colab_type": "code",
    "id": "DR-taZZa0Hyb"
   },
   "outputs": [],
   "source": [
    "@cuda.jit(\"(float64[:,:], float64[:,:], int32, float64)\")        \n",
    "def gravitationalNbody_r_i_NumbaGPU64(r, v, nobj, dt):\n",
    "    i = cuda.grid(1)\n",
    "    if i < nobj:\n",
    "        r[i][0] += v[i][0]*dt; r[i][1] += v[i][1]*dt; r[i][2] += v[i][2]*dt"
   ]
  },
  {
   "cell_type": "code",
   "execution_count": 23,
   "metadata": {
    "ExecuteTime": {
     "end_time": "2019-03-06T19:41:56.114132Z",
     "start_time": "2019-03-06T19:41:55.919707Z"
    },
    "colab": {},
    "colab_type": "code",
    "id": "J0ISULb-0Hyo"
   },
   "outputs": [],
   "source": [
    "@cuda.jit(\"(float64[:,:], float64[:,:], float64[:], int32, float64[:])\")\n",
    "def gravitationalNbody_K_U_NumbaCUDA(r, v, m, nobj, K_U):\n",
    "    i = cuda.grid(1)\n",
    "    if i < nobj:\n",
    "        K_U[0] += 0.5*m[i]*(v[i][0]**2 + v[i][1]**2 + v[i][2]**2)\n",
    "        for j in range(nobj):\n",
    "            if (i < j):\n",
    "                K_U[1] += (-G*m[i]*m[j])/math.sqrt((r[j][0] - r[i][0])**2 + (r[j][1] - r[i][1])**2 + \n",
    "                                              (r[j][2] - r[i][2])**2 + sft**2)"
   ]
  },
  {
   "cell_type": "code",
   "execution_count": 24,
   "metadata": {
    "ExecuteTime": {
     "end_time": "2019-03-06T19:41:56.729182Z",
     "start_time": "2019-03-06T19:41:56.721416Z"
    },
    "colab": {},
    "colab_type": "code",
    "id": "JejEgq2F0Hy3"
   },
   "outputs": [],
   "source": [
    "@jit(parallel=True)\n",
    "def gravitationalNbody_NumbaGPU64(r, v, a, m, nobj, ninter, dt, flag_Energy=False):\n",
    "    threadsperblock = 128\n",
    "    blockspergrid = (nobj + (threadsperblock - 1)) // threadsperblock\n",
    "    print(\"Threads per block = {}; Blocks per grid = {}\".format(threadsperblock, blockspergrid))\n",
    "    htod_ti = timer()\n",
    "    d_r = cuda.to_device(r); d_v = cuda.to_device(v); d_a = cuda.to_device(a); d_m = cuda.to_device(m)\n",
    "    htod_tf = timer()\n",
    "    for inter in range(ninter):\n",
    "        gravitationalNbody_a_v_ij_NumbaGPU64[blockspergrid, threadsperblock](d_r, d_v, d_a, d_m, nobj, dt)\n",
    "        cuda.synchronize()\n",
    "        gravitationalNbody_r_i_NumbaGPU64[blockspergrid, threadsperblock](d_r, d_v, nobj, dt)\n",
    "        cuda.synchronize()\n",
    "    dtoh_ti = timer()\n",
    "    d_r.copy_to_host(r); d_v.copy_to_host(v); d_a.copy_to_host(a); d_m.copy_to_host(m)\n",
    "    dtoh_tf = timer()\n",
    "    K = 0.0; U = 0.0\n",
    "    if flag_Energy:\n",
    "        for i in prange(nobj):\n",
    "            # Sum the total kinectic energy\n",
    "            K += 0.5*m[i]*(v[i][0]**2 + v[i][1]**2 + v[i][2]**2)\n",
    "            for j in range(nobj):\n",
    "                if (i < j):\n",
    "                    # Sum the total potential energy\n",
    "                    U += (-G*m[i]*m[j])/math.sqrt((r[j][0] - r[i][0])**2 + (r[j][1] - r[i][1])**2 + \n",
    "                                                  (r[j][2] - r[i][2])**2 + sft**2)\n",
    "    print(\"Copied data from CPU to GPU after {} s\".format(htod_tf - htod_ti))\n",
    "    print(\"GPU calculations done after {} s\".format(dtoh_ti - htod_tf))\n",
    "    print(\"Copied data from GPU to CPU after {} s\".format(dtoh_tf - dtoh_ti))\n",
    "    print(\"Copies CPU<->GPU and GPU calculations after {} s\".format(dtoh_tf - htod_ti))\n",
    "    return K, U\n",
    "#    Energies_K_U = np.zeros(2)\n",
    "#    if flag_Energy:\n",
    "#        gravitationalNbody_K_U_NumbaCUDA[blockspergrid, threadsperblock](r, v, m, nobj, Energies_K_U)\n",
    "#        cuda.synchronize()\n",
    "#    return Energies_K_U[0], Energies_K_U[1]"
   ]
  },
  {
   "cell_type": "code",
   "execution_count": 25,
   "metadata": {
    "ExecuteTime": {
     "end_time": "2019-03-06T19:41:58.265250Z",
     "start_time": "2019-03-06T19:41:58.253332Z"
    },
    "code_folding": [],
    "colab": {},
    "colab_type": "code",
    "id": "3hKhX66a0HzE",
    "scrolled": true
   },
   "outputs": [],
   "source": [
    "# n_cube_edge : número de pontos l de cada aresta de um cubo\n",
    "# ninter : M, número de interações\n",
    "# dt : dt, intervalo entre interações\n",
    "def run_nbody(gravitationalNbodyfunction, n_cube_edge=10, ninter = 5, dt = 0.01, \n",
    "              flag_array=True, flag_compile=True, flag_Energy= False, flag_verbose=False):\n",
    "    nbody_version = \"1.6.3\"\n",
    "\n",
    "    nobj = n_cube_edge**3 # define o número de objetos na simulação\n",
    "    if flag_array:\n",
    "        positions = np.zeros((nobj, 3))   # inicializa uma lista de N posições 3D, nulas inicialmente\n",
    "        velocities = np.zeros_like(positions)   # inicializa uma lista de N velocidades 3D, nulas inicialmente\n",
    "        accelerations = np.zeros_like(positions)   # inicializa uma lista de N acelerações 3D, nulas inicialmente\n",
    "        masses = 1e9*np.ones(nobj)   # inicializa uma lista de N massas, aqui iguais a 10^6 kg\n",
    "    else:\n",
    "        positions = [[0., 0., 0.] for i in range(nobj)]   # inicializa uma lista de N de objetos para posição e massa, nulas inicialmente\n",
    "        velocities = [[0., 0., 0.] for i in range(nobj)]   # inicializa uma lista de N velocidades 3D, nulas inicialmente\n",
    "        accelerations = [[0., 0., 0.] for i in range(nobj)]   # inicializa uma lista de N acelerações 3D, nulas inicialmente\n",
    "        masses = [1e9]*nobj   # inicializa uma lista de N massas, aqui iguais a 10^6 kg\n",
    "    # Cria um cubo de l^3 pontos, onde cada aresta tem l pontos   \n",
    "    scale = 1.0  # escala do cubo, com comprimento da aresta = scale*n_cube_edge\n",
    "    n_half_cube_edge = int(n_cube_edge/2)\n",
    "    for i in range(n_cube_edge):\n",
    "        for j in range(n_cube_edge):\n",
    "            for k in range(n_cube_edge):\n",
    "                positions[k + j*n_cube_edge + i*n_cube_edge*n_cube_edge] = [(i - n_half_cube_edge)*scale, \n",
    "                                                                            (j - n_half_cube_edge)*scale,\n",
    "                                                                            (k - n_half_cube_edge)*scale]                \n",
    "    if flag_compile:\n",
    "        # To Numba compile the function 1st time before calling with full data\n",
    "        positions_backup = positions.copy()\n",
    "        velocities_backup = velocities.copy()\n",
    "        accelerations_backup = accelerations.copy()\n",
    "        print(\"N-Body (C) Flavio Manoel, v{}\".format(nbody_version))\n",
    "        print(\"N = {} corpos, dt = {}s, M = {} interações\".format(nobj, dt, ninter))\n",
    "        start = timer()\n",
    "        Kf, Uf = gravitationalNbodyfunction(positions, velocities, accelerations, masses, nobj, ninter, dt, \n",
    "                                            flag_Energy=flag_Energy)\n",
    "        end = timer()\n",
    "        if flag_Energy:\n",
    "            print(\"Após {} passos, {:.4f}s, Ef = {}, Kf = {}, Uf = {}\".format(ninter, ninter*dt, \n",
    "                                                                                          Kf + Uf, Kf, Uf))\n",
    "        dt_compile_run = end - start\n",
    "        print(\"Código executado em {:.6f} s\\n\".format(dt_compile_run))\n",
    "        positions = positions_backup.copy()\n",
    "        velocities = velocities_backup.copy()\n",
    "        accelerations = accelerations_backup.copy()\n",
    "    else:\n",
    "        dt_compile_run = 0.0\n",
    "        \n",
    "    print(\"N-Body (C) Flavio Manoel, v{}\".format(nbody_version))\n",
    "    print(\"N = {} corpos, dt = {}s, M = {} interações\".format(nobj, dt, ninter))\n",
    "    if flag_verbose:\n",
    "        print(\"Posições = {}\\nVelocidades = {}\\nAcelerações = {}\\nMassas = {}\\n\".format(positions, \n",
    "              velocities, accelerations, masses))\n",
    "    start = timer()\n",
    "    if flag_Energy:\n",
    "        Ki, Ui = gravitationalNbodyfunction(positions, velocities, accelerations, masses, nobj, 0, dt, \n",
    "                                            flag_Energy=flag_Energy)\n",
    "        print(\"Ei = {}, Ki = {}, Ui = {}\".format(Ki + Ui, Ki, Ui))\n",
    "    Kf, Uf = gravitationalNbodyfunction(positions, velocities, accelerations, masses, nobj, ninter, dt, \n",
    "                                        flag_Energy=flag_Energy)\n",
    "    end = timer()\n",
    "    if flag_Energy:\n",
    "        erro_perc = 100.0*(Kf + Uf - (Ki + Ui))/(Ki + Ui)\n",
    "        print(\"Após {} passos, {:.4f}s :\\nEf = {}, Kf = {}, Uf = {}, erro em E = {}%\".format(ninter, \n",
    "               ninter*dt, Kf + Uf, Kf, Uf, erro_perc))\n",
    "    else:\n",
    "        erro_perc = 0.0\n",
    "    dt_run = end - start\n",
    "    print(\"Código executado em {:.6f} s\".format(dt_run))\n",
    "    if flag_verbose:\n",
    "        print(\"\\nPositions = {}\\nVelocities = {}\\nAccelerations = {}\".format(positions, velocities, \n",
    "                                                                             accelerations))\n",
    "    return dt_compile_run, dt_run, erro_perc"
   ]
  },
  {
   "cell_type": "markdown",
   "metadata": {
    "colab_type": "text",
    "id": "mafb_M3q0HzL"
   },
   "source": [
    "## Testes de nbody"
   ]
  },
  {
   "cell_type": "code",
   "execution_count": 26,
   "metadata": {
    "ExecuteTime": {
     "end_time": "2019-03-06T19:42:14.086407Z",
     "start_time": "2019-03-06T19:42:14.084154Z"
    },
    "colab": {},
    "colab_type": "code",
    "id": "fGLFkT5N0HzN"
   },
   "outputs": [],
   "source": [
    "n_cube_edge=32; ninter = 1; dt = 0.01"
   ]
  },
  {
   "cell_type": "markdown",
   "metadata": {
    "colab_type": "text",
    "id": "m0IgWcQa0HzT"
   },
   "source": [
    "### Teste de nbody em Python puro"
   ]
  },
  {
   "cell_type": "code",
   "execution_count": 27,
   "metadata": {
    "ExecuteTime": {
     "end_time": "2019-03-06T19:42:50.140552Z",
     "start_time": "2019-03-06T19:42:50.138565Z"
    },
    "colab": {},
    "colab_type": "code",
    "id": "ZshKpfHr0HzW"
   },
   "outputs": [],
   "source": [
    "#t_all_py, t_py, erro_py = run_nbody(gravitationalNbody_NumbaCPU.py_func, n_cube_edge=n_cube_edge, ninter=ninter, \n",
    "#                                    dt=dt, flag_array=False, flag_Energy=True, flag_compile=False)"
   ]
  },
  {
   "cell_type": "code",
   "execution_count": 28,
   "metadata": {
    "ExecuteTime": {
     "end_time": "2019-03-06T19:53:38.657651Z",
     "start_time": "2019-03-06T19:42:50.582327Z"
    },
    "colab": {
     "base_uri": "https://localhost:8080/",
     "height": 67
    },
    "colab_type": "code",
    "id": "Z3asKC_50Hzf",
    "outputId": "ed4a6142-0a9d-4cec-809d-aa63db99f851"
   },
   "outputs": [
    {
     "name": "stdout",
     "output_type": "stream",
     "text": [
      "N-Body (C) Flavio Manoel, v1.6.3\n",
      "N = 32768 corpos, dt = 0.01s, M = 1 interações\n",
      "Código executado em 648.022746 s\n"
     ]
    }
   ],
   "source": [
    "t_all_py, t_py, erro_py = run_nbody(gravitationalNbody_NumbaCPU.py_func, n_cube_edge=n_cube_edge, ninter=ninter, \n",
    "                                    dt=dt, flag_array=False, flag_compile=False)"
   ]
  },
  {
   "cell_type": "markdown",
   "metadata": {
    "colab_type": "text",
    "id": "97hKery-0Hzq"
   },
   "source": [
    "### Teste de nbody em Python (com NumPy arrays)"
   ]
  },
  {
   "cell_type": "code",
   "execution_count": 29,
   "metadata": {
    "ExecuteTime": {
     "end_time": "2019-03-06T19:53:38.660927Z",
     "start_time": "2019-03-06T19:53:38.659234Z"
    },
    "colab": {},
    "colab_type": "code",
    "id": "q9zmJEXA0Hzs"
   },
   "outputs": [],
   "source": [
    "#t_all_py_a, t_py_a, erro_py_a = run_nbody(gravitationalNbody_NumbaCPU.py_func, n_cube_edge=n_cube_edge, \n",
    "#                                          ninter=ninter, dt=dt, flag_Energy=True, flag_compile=False)"
   ]
  },
  {
   "cell_type": "code",
   "execution_count": 30,
   "metadata": {
    "ExecuteTime": {
     "end_time": "2019-03-06T19:53:38.667140Z",
     "start_time": "2019-03-06T19:53:38.662146Z"
    },
    "colab": {},
    "colab_type": "code",
    "id": "MBn-kDRI0Hzz"
   },
   "outputs": [],
   "source": [
    "#t_all_py_a, t_py_a, erro_py_a = run_nbody(gravitationalNbody_NumbaCPU.py_func, n_cube_edge=n_cube_edge, \n",
    "#                                          ninter=ninter, dt=dt, flag_compile=False)"
   ]
  },
  {
   "cell_type": "markdown",
   "metadata": {
    "colab_type": "text",
    "id": "apxVbBW20H0D"
   },
   "source": [
    "### Teste de nbody em Python NumPy"
   ]
  },
  {
   "cell_type": "code",
   "execution_count": 31,
   "metadata": {
    "ExecuteTime": {
     "end_time": "2019-03-06T19:53:38.672651Z",
     "start_time": "2019-03-06T19:53:38.668811Z"
    },
    "colab": {},
    "colab_type": "code",
    "id": "KLfoiQ1p0H0H"
   },
   "outputs": [],
   "source": [
    "#t_all_np, t_np, erro_np = run_nbody(gravitationalNbody_NumPy_NumbaCPU.py_func, n_cube_edge=n_cube_edge, \n",
    "#                                    ninter=ninter, dt=dt, flag_Energy=True, flag_compile=False)"
   ]
  },
  {
   "cell_type": "code",
   "execution_count": 32,
   "metadata": {
    "ExecuteTime": {
     "end_time": "2019-03-06T19:54:09.911972Z",
     "start_time": "2019-03-06T19:53:38.674426Z"
    },
    "colab": {
     "base_uri": "https://localhost:8080/",
     "height": 67
    },
    "colab_type": "code",
    "id": "4xRDy46L0H0e",
    "outputId": "1788d2d9-f849-496d-8259-ccca13e355af"
   },
   "outputs": [
    {
     "name": "stdout",
     "output_type": "stream",
     "text": [
      "N-Body (C) Flavio Manoel, v1.6.3\n",
      "N = 32768 corpos, dt = 0.01s, M = 1 interações\n",
      "Código executado em 31.209550 s\n"
     ]
    }
   ],
   "source": [
    "t_all_np, t_np, erro_np = run_nbody(gravitationalNbody_NumPy_NumbaCPU.py_func, n_cube_edge=n_cube_edge, \n",
    "                                    ninter=ninter, dt=dt, flag_compile=False)"
   ]
  },
  {
   "cell_type": "markdown",
   "metadata": {
    "colab_type": "text",
    "id": "pD7FfMk50H0r"
   },
   "source": [
    "### Teste de nbody em Python Numba CPU"
   ]
  },
  {
   "cell_type": "code",
   "execution_count": 33,
   "metadata": {
    "ExecuteTime": {
     "end_time": "2019-03-06T19:54:09.914446Z",
     "start_time": "2019-03-06T19:54:09.912914Z"
    },
    "colab": {},
    "colab_type": "code",
    "id": "sLpagY_u0H0t"
   },
   "outputs": [],
   "source": [
    "#t_all_nb, t_nb, erro_nb = run_nbody(gravitationalNbody_NumbaCPU, n_cube_edge=n_cube_edge, ninter=ninter, \n",
    "#                                    dt=dt, flag_Energy=True)"
   ]
  },
  {
   "cell_type": "code",
   "execution_count": 34,
   "metadata": {
    "ExecuteTime": {
     "end_time": "2019-03-06T19:54:20.294172Z",
     "start_time": "2019-03-06T19:54:09.915310Z"
    },
    "colab": {
     "base_uri": "https://localhost:8080/",
     "height": 134
    },
    "colab_type": "code",
    "id": "LK2mQdIc0H00",
    "outputId": "8252af25-6380-4fb7-8e69-6bb22034c0d6"
   },
   "outputs": [
    {
     "name": "stdout",
     "output_type": "stream",
     "text": [
      "N-Body (C) Flavio Manoel, v1.6.3\n",
      "N = 32768 corpos, dt = 0.01s, M = 1 interações\n",
      "Código executado em 5.416461 s\n",
      "\n",
      "N-Body (C) Flavio Manoel, v1.6.3\n",
      "N = 32768 corpos, dt = 0.01s, M = 1 interações\n",
      "Código executado em 4.928714 s\n"
     ]
    }
   ],
   "source": [
    "t_all_nb, t_nb, erro_nb = run_nbody(gravitationalNbody_NumbaCPU, n_cube_edge=n_cube_edge, ninter=ninter, \n",
    "                                    dt=dt)"
   ]
  },
  {
   "cell_type": "markdown",
   "metadata": {
    "colab_type": "text",
    "id": "V9qekFH50H09"
   },
   "source": [
    "### Teste de nbody em NumPy Numba CPU"
   ]
  },
  {
   "cell_type": "code",
   "execution_count": 35,
   "metadata": {
    "ExecuteTime": {
     "end_time": "2019-03-06T19:54:20.297089Z",
     "start_time": "2019-03-06T19:54:20.295549Z"
    },
    "colab": {},
    "colab_type": "code",
    "id": "bipEIdIz0H0_"
   },
   "outputs": [],
   "source": [
    "#t_all_np_nb, t_np_nb, erro_np_nb = run_nbody(gravitationalNbody_NumPy_NumbaCPU, n_cube_edge=n_cube_edge, \n",
    "#                                             ninter=ninter, dt=dt, flag_Energy=True)"
   ]
  },
  {
   "cell_type": "code",
   "execution_count": 36,
   "metadata": {
    "ExecuteTime": {
     "end_time": "2019-03-06T19:54:55.298908Z",
     "start_time": "2019-03-06T19:54:20.298175Z"
    },
    "colab": {
     "base_uri": "https://localhost:8080/",
     "height": 134
    },
    "colab_type": "code",
    "id": "a-ufXIU10H1F",
    "outputId": "4017dc52-af53-4798-d111-c7dc9a29a93b"
   },
   "outputs": [
    {
     "name": "stdout",
     "output_type": "stream",
     "text": [
      "N-Body (C) Flavio Manoel, v1.6.3\n",
      "N = 32768 corpos, dt = 0.01s, M = 1 interações\n",
      "Código executado em 18.117134 s\n",
      "\n",
      "N-Body (C) Flavio Manoel, v1.6.3\n",
      "N = 32768 corpos, dt = 0.01s, M = 1 interações\n",
      "Código executado em 16.851946 s\n"
     ]
    }
   ],
   "source": [
    "t_all_np_nb, t_np_nb, erro_np_nb = run_nbody(gravitationalNbody_NumPy_NumbaCPU, n_cube_edge=n_cube_edge, \n",
    "                                             ninter=ninter, dt=dt)"
   ]
  },
  {
   "cell_type": "markdown",
   "metadata": {
    "colab_type": "text",
    "id": "mR7LDNdk0H1U"
   },
   "source": [
    "### Teste de nbody em Python Numba CPU //"
   ]
  },
  {
   "cell_type": "code",
   "execution_count": 37,
   "metadata": {
    "ExecuteTime": {
     "end_time": "2019-03-06T19:54:55.302448Z",
     "start_time": "2019-03-06T19:54:55.300524Z"
    },
    "colab": {},
    "colab_type": "code",
    "id": "zWtDmBF40H1d"
   },
   "outputs": [],
   "source": [
    "#t_all_nb_parallel, t_nb_parallel, erro_nb_parallel = run_nbody(gravitationalNbody_NumbaCPUparallel, \n",
    "#                                             n_cube_edge=n_cube_edge, ninter=ninter, dt=dt, flag_Energy=True)"
   ]
  },
  {
   "cell_type": "code",
   "execution_count": 38,
   "metadata": {
    "ExecuteTime": {
     "end_time": "2019-03-06T19:54:58.715763Z",
     "start_time": "2019-03-06T19:54:55.304058Z"
    },
    "colab": {
     "base_uri": "https://localhost:8080/",
     "height": 134
    },
    "colab_type": "code",
    "id": "kYV9UqeE0H1o",
    "outputId": "3db1fc50-1144-4504-d4b8-0f702fbfc744"
   },
   "outputs": [
    {
     "name": "stdout",
     "output_type": "stream",
     "text": [
      "N-Body (C) Flavio Manoel, v1.6.3\n",
      "N = 32768 corpos, dt = 0.01s, M = 1 interações\n",
      "Código executado em 2.627221 s\n",
      "\n",
      "N-Body (C) Flavio Manoel, v1.6.3\n",
      "N = 32768 corpos, dt = 0.01s, M = 1 interações\n",
      "Código executado em 0.754986 s\n"
     ]
    }
   ],
   "source": [
    "t_all_nb_parallel, t_nb_parallel, erro_nb_parallel = run_nbody(gravitationalNbody_NumbaCPUparallel, \n",
    "                                                               n_cube_edge=n_cube_edge, ninter=ninter, dt=dt)"
   ]
  },
  {
   "cell_type": "markdown",
   "metadata": {
    "colab_type": "text",
    "id": "8y86IIQl0H11"
   },
   "source": [
    "### Teste de nbody em NumPy Numba CPU //"
   ]
  },
  {
   "cell_type": "code",
   "execution_count": 39,
   "metadata": {
    "ExecuteTime": {
     "end_time": "2019-03-06T19:54:58.719255Z",
     "start_time": "2019-03-06T19:54:58.717376Z"
    },
    "colab": {},
    "colab_type": "code",
    "id": "7ldrhFx80H14"
   },
   "outputs": [],
   "source": [
    "#t_all_np_nb_parallel, t_np_nb_parallel, erro_np_nb_parallel = run_nbody(\n",
    "#    gravitationalNbody_NumPy_NumbaCPUparallel, n_cube_edge=n_cube_edge, ninter=ninter, dt=dt, flag_Energy=True)"
   ]
  },
  {
   "cell_type": "code",
   "execution_count": 40,
   "metadata": {
    "ExecuteTime": {
     "end_time": "2019-03-06T19:55:34.099088Z",
     "start_time": "2019-03-06T19:54:58.720884Z"
    },
    "colab": {
     "base_uri": "https://localhost:8080/",
     "height": 134
    },
    "colab_type": "code",
    "id": "jFJlwUvj0H2G",
    "outputId": "e643a893-afb6-4828-d1a7-ccbd9aff58e0"
   },
   "outputs": [
    {
     "name": "stdout",
     "output_type": "stream",
     "text": [
      "N-Body (C) Flavio Manoel, v1.6.3\n",
      "N = 32768 corpos, dt = 0.01s, M = 1 interações\n",
      "Código executado em 20.386811 s\n",
      "\n",
      "N-Body (C) Flavio Manoel, v1.6.3\n",
      "N = 32768 corpos, dt = 0.01s, M = 1 interações\n",
      "Código executado em 14.958322 s\n"
     ]
    }
   ],
   "source": [
    "t_all_np_nb_parallel, t_np_nb_parallel, erro_np_nb_parallel = run_nbody(\n",
    "                    gravitationalNbody_NumPy_NumbaCPUparallel, n_cube_edge=n_cube_edge, ninter=ninter, dt=dt)"
   ]
  },
  {
   "cell_type": "markdown",
   "metadata": {
    "colab_type": "text",
    "id": "SZqHB5do0H2c"
   },
   "source": [
    "### Teste de nbody em Python Numba GPU 64 bits (double precision)"
   ]
  },
  {
   "cell_type": "code",
   "execution_count": 41,
   "metadata": {
    "ExecuteTime": {
     "end_time": "2019-03-06T19:55:34.101756Z",
     "start_time": "2019-03-06T19:55:34.100284Z"
    },
    "colab": {},
    "colab_type": "code",
    "id": "1KtGiG8x0H2i"
   },
   "outputs": [],
   "source": [
    "#t_all_gpu, t_gpu, erro_gpu = run_nbody(gravitationalNbody_NumbaGPU64, n_cube_edge=n_cube_edge, \n",
    "#                                       ninter=ninter, dt=dt, flag_Energy=True)"
   ]
  },
  {
   "cell_type": "code",
   "execution_count": 42,
   "metadata": {
    "ExecuteTime": {
     "end_time": "2019-03-06T19:55:36.245940Z",
     "start_time": "2019-03-06T19:55:34.102866Z"
    },
    "colab": {
     "base_uri": "https://localhost:8080/",
     "height": 302
    },
    "colab_type": "code",
    "id": "O8S4qQZV0H22",
    "outputId": "420bd34b-8d99-40cb-dcae-0ed531d6ff49"
   },
   "outputs": [
    {
     "name": "stdout",
     "output_type": "stream",
     "text": [
      "N-Body (C) Flavio Manoel, v1.6.3\n",
      "N = 32768 corpos, dt = 0.01s, M = 1 interações\n",
      "Threads per block = 128; Blocks per grid = 256\n",
      "Copied data from CPU to GPU after 0.011426732991822064 s\n",
      "GPU calculations done after 0.8920246070192661 s\n",
      "Copied data from GPU to CPU after 0.000789939978858456 s\n",
      "Copies CPU<->GPU and GPU calculations after 0.9042412799899466 s\n",
      "Código executado em 1.368276 s\n",
      "\n",
      "N-Body (C) Flavio Manoel, v1.6.3\n",
      "N = 32768 corpos, dt = 0.01s, M = 1 interações\n",
      "Threads per block = 128; Blocks per grid = 256\n",
      "Copied data from CPU to GPU after 0.000898712023627013 s\n",
      "GPU calculations done after 0.7333135590015445 s\n",
      "Copied data from GPU to CPU after 0.0007343399920500815 s\n",
      "Copies CPU<->GPU and GPU calculations after 0.7349466110172216 s\n",
      "Código executado em 0.735039 s\n"
     ]
    }
   ],
   "source": [
    "t_all_gpu, t_gpu, erro_gpu = run_nbody(gravitationalNbody_NumbaGPU64, n_cube_edge=n_cube_edge, \n",
    "                                       ninter=ninter, dt=dt)"
   ]
  },
  {
   "cell_type": "markdown",
   "metadata": {
    "colab_type": "text",
    "id": "yHHsqqwO0H3C"
   },
   "source": [
    "### Resultados e comparações"
   ]
  },
  {
   "cell_type": "markdown",
   "metadata": {
    "colab_type": "text",
    "id": "tvjiv_QK0H3D"
   },
   "source": [
    "Speed up of pure Python with respect to Python (with NumPy arrays)  :"
   ]
  },
  {
   "cell_type": "code",
   "execution_count": 43,
   "metadata": {
    "ExecuteTime": {
     "end_time": "2019-03-06T19:55:36.248953Z",
     "start_time": "2019-03-06T19:55:36.247212Z"
    },
    "colab": {},
    "colab_type": "code",
    "id": "ayD9pEIS0H3F"
   },
   "outputs": [],
   "source": [
    "#t_py_a / t_py"
   ]
  },
  {
   "cell_type": "markdown",
   "metadata": {
    "colab_type": "text",
    "id": "9WdKRvm-0H3O"
   },
   "source": [
    "Speed up of Python NumPy with respect to pure Python :"
   ]
  },
  {
   "cell_type": "code",
   "execution_count": 44,
   "metadata": {
    "ExecuteTime": {
     "end_time": "2019-03-06T19:55:36.255433Z",
     "start_time": "2019-03-06T19:55:36.250011Z"
    },
    "colab": {
     "base_uri": "https://localhost:8080/",
     "height": 34
    },
    "colab_type": "code",
    "id": "Io6-7Ng60H3R",
    "outputId": "9c23023b-db29-4968-9d7f-fae82d23484a"
   },
   "outputs": [
    {
     "data": {
      "text/plain": [
       "20.76360431458669"
      ]
     },
     "execution_count": 44,
     "metadata": {},
     "output_type": "execute_result"
    }
   ],
   "source": [
    "t_py / t_np"
   ]
  },
  {
   "cell_type": "markdown",
   "metadata": {
    "colab_type": "text",
    "id": "Qf7c9AOp0H3Y"
   },
   "source": [
    "Speed up of Python Numba CPU (serial) with respect to pure Python :"
   ]
  },
  {
   "cell_type": "code",
   "execution_count": 45,
   "metadata": {
    "ExecuteTime": {
     "end_time": "2019-03-06T19:55:36.261576Z",
     "start_time": "2019-03-06T19:55:36.257890Z"
    },
    "colab": {
     "base_uri": "https://localhost:8080/",
     "height": 34
    },
    "colab_type": "code",
    "id": "eeUOrVHp0H3Z",
    "outputId": "233c1532-c19e-4f09-d37b-463cd7d3ed98"
   },
   "outputs": [
    {
     "data": {
      "text/plain": [
       "131.47907529301648"
      ]
     },
     "execution_count": 45,
     "metadata": {},
     "output_type": "execute_result"
    }
   ],
   "source": [
    "t_py / t_nb"
   ]
  },
  {
   "cell_type": "markdown",
   "metadata": {
    "colab_type": "text",
    "id": "hHyddsF00H3l"
   },
   "source": [
    "Speed up of Python Numba CPU (serial) with respect to Python (with NumPy arrays) :"
   ]
  },
  {
   "cell_type": "code",
   "execution_count": 46,
   "metadata": {
    "ExecuteTime": {
     "end_time": "2019-03-06T19:55:36.266705Z",
     "start_time": "2019-03-06T19:55:36.262775Z"
    },
    "colab": {},
    "colab_type": "code",
    "id": "l92JBM4T0H3o"
   },
   "outputs": [],
   "source": [
    "#t_py_a / t_nb"
   ]
  },
  {
   "cell_type": "markdown",
   "metadata": {
    "colab_type": "text",
    "id": "M1I0DhPc0H3w"
   },
   "source": [
    "Speed up of Python Numba CPU (serial) with respect to Python NumPy :"
   ]
  },
  {
   "cell_type": "code",
   "execution_count": 47,
   "metadata": {
    "ExecuteTime": {
     "end_time": "2019-03-06T19:55:36.272723Z",
     "start_time": "2019-03-06T19:55:36.267739Z"
    },
    "colab": {
     "base_uri": "https://localhost:8080/",
     "height": 34
    },
    "colab_type": "code",
    "id": "zjZCCygc0H3y",
    "outputId": "7534a33f-e4fa-41a3-81af-96c1901772f0"
   },
   "outputs": [
    {
     "data": {
      "text/plain": [
       "6.332189407050625"
      ]
     },
     "execution_count": 47,
     "metadata": {},
     "output_type": "execute_result"
    }
   ],
   "source": [
    "t_np / t_nb"
   ]
  },
  {
   "cell_type": "markdown",
   "metadata": {
    "colab_type": "text",
    "id": "JaI7baYd0H4A"
   },
   "source": [
    "Speed up of NumPy Numba CPU (serial) with respect to pure Python :"
   ]
  },
  {
   "cell_type": "code",
   "execution_count": 48,
   "metadata": {
    "ExecuteTime": {
     "end_time": "2019-03-06T19:55:36.278682Z",
     "start_time": "2019-03-06T19:55:36.273653Z"
    },
    "colab": {
     "base_uri": "https://localhost:8080/",
     "height": 34
    },
    "colab_type": "code",
    "id": "mTpCfCDl0H4D",
    "outputId": "6a0efa6e-3e13-4126-a0ec-111f70911cd5"
   },
   "outputs": [
    {
     "data": {
      "text/plain": [
       "38.45388178859227"
      ]
     },
     "execution_count": 48,
     "metadata": {},
     "output_type": "execute_result"
    }
   ],
   "source": [
    "t_py / t_np_nb"
   ]
  },
  {
   "cell_type": "markdown",
   "metadata": {
    "colab_type": "text",
    "id": "SeoGDHZ60H4K"
   },
   "source": [
    "Speed up of NumPy Numba CPU (serial) with respect to Python NumPy :"
   ]
  },
  {
   "cell_type": "code",
   "execution_count": 49,
   "metadata": {
    "ExecuteTime": {
     "end_time": "2019-03-06T19:55:36.285163Z",
     "start_time": "2019-03-06T19:55:36.279874Z"
    },
    "colab": {
     "base_uri": "https://localhost:8080/",
     "height": 34
    },
    "colab_type": "code",
    "id": "R1ZoXtqX0H4N",
    "outputId": "22e22873-e55c-4b4d-eaf8-db5404c7ee9f"
   },
   "outputs": [
    {
     "data": {
      "text/plain": [
       "1.8519849061840359"
      ]
     },
     "execution_count": 49,
     "metadata": {},
     "output_type": "execute_result"
    }
   ],
   "source": [
    "t_np / t_np_nb"
   ]
  },
  {
   "cell_type": "markdown",
   "metadata": {
    "colab_type": "text",
    "id": "rwp1KC3L0H4V"
   },
   "source": [
    "Speed up of Python Numba CPU // with respect to pure Python :"
   ]
  },
  {
   "cell_type": "code",
   "execution_count": 50,
   "metadata": {
    "ExecuteTime": {
     "end_time": "2019-03-06T19:55:36.292082Z",
     "start_time": "2019-03-06T19:55:36.286827Z"
    },
    "colab": {
     "base_uri": "https://localhost:8080/",
     "height": 34
    },
    "colab_type": "code",
    "id": "hVVM2mOm0H4X",
    "outputId": "513d7bff-39f0-4edf-f1d8-3949a1045fcb"
   },
   "outputs": [
    {
     "data": {
      "text/plain": [
       "858.3240096430413"
      ]
     },
     "execution_count": 50,
     "metadata": {},
     "output_type": "execute_result"
    }
   ],
   "source": [
    "t_py / t_nb_parallel"
   ]
  },
  {
   "cell_type": "markdown",
   "metadata": {
    "colab_type": "text",
    "id": "k4E7yr2F0H4e"
   },
   "source": [
    "Speed up of Python Numba CPU // with respect to Python (with NumPy arrays) :"
   ]
  },
  {
   "cell_type": "code",
   "execution_count": 51,
   "metadata": {
    "ExecuteTime": {
     "end_time": "2019-03-06T19:55:36.297385Z",
     "start_time": "2019-03-06T19:55:36.293595Z"
    },
    "colab": {},
    "colab_type": "code",
    "id": "nNPghKPf0H4f"
   },
   "outputs": [],
   "source": [
    "#t_py_a / t_nb_parallel"
   ]
  },
  {
   "cell_type": "markdown",
   "metadata": {
    "colab_type": "text",
    "id": "ErVxbvGf0H4r"
   },
   "source": [
    "Speed up of NumPy Numba CPU // with respect to Python NumPy :"
   ]
  },
  {
   "cell_type": "code",
   "execution_count": 52,
   "metadata": {
    "ExecuteTime": {
     "end_time": "2019-03-06T19:55:36.303635Z",
     "start_time": "2019-03-06T19:55:36.299306Z"
    },
    "colab": {
     "base_uri": "https://localhost:8080/",
     "height": 34
    },
    "colab_type": "code",
    "id": "jC65fXs40H4t",
    "outputId": "420140cd-1a18-4463-ce28-e7bcef380831"
   },
   "outputs": [
    {
     "data": {
      "text/plain": [
       "2.0864339364688926"
      ]
     },
     "execution_count": 52,
     "metadata": {},
     "output_type": "execute_result"
    }
   ],
   "source": [
    "t_np / t_np_nb_parallel"
   ]
  },
  {
   "cell_type": "markdown",
   "metadata": {
    "colab_type": "text",
    "id": "i0R0ysQB0H47"
   },
   "source": [
    "Speed up of Python Numba CPU // with respect to Python Numba CPU :"
   ]
  },
  {
   "cell_type": "code",
   "execution_count": 53,
   "metadata": {
    "ExecuteTime": {
     "end_time": "2019-03-06T19:55:36.309352Z",
     "start_time": "2019-03-06T19:55:36.304625Z"
    },
    "colab": {
     "base_uri": "https://localhost:8080/",
     "height": 34
    },
    "colab_type": "code",
    "id": "2w-46CnD0H48",
    "outputId": "27c9d962-71b5-40c6-8a18-39a2b4d5b961"
   },
   "outputs": [
    {
     "data": {
      "text/plain": [
       "6.528217571732734"
      ]
     },
     "execution_count": 53,
     "metadata": {},
     "output_type": "execute_result"
    }
   ],
   "source": [
    "t_nb / t_nb_parallel"
   ]
  },
  {
   "cell_type": "markdown",
   "metadata": {
    "colab_type": "text",
    "id": "U6TRVDTf0H5M"
   },
   "source": [
    "Speed up of NumPy Numba CPU // with respect to NumPy Numba CPU :"
   ]
  },
  {
   "cell_type": "code",
   "execution_count": 54,
   "metadata": {
    "ExecuteTime": {
     "end_time": "2019-03-06T19:55:36.315713Z",
     "start_time": "2019-03-06T19:55:36.310307Z"
    },
    "colab": {
     "base_uri": "https://localhost:8080/",
     "height": 34
    },
    "colab_type": "code",
    "id": "_263ZKuu0H5T",
    "outputId": "33896578-f109-45de-90bd-d3ae510388ba"
   },
   "outputs": [
    {
     "data": {
      "text/plain": [
       "1.1265933807030493"
      ]
     },
     "execution_count": 54,
     "metadata": {},
     "output_type": "execute_result"
    }
   ],
   "source": [
    "t_np_nb / t_np_nb_parallel"
   ]
  },
  {
   "cell_type": "markdown",
   "metadata": {
    "colab_type": "text",
    "id": "s1jXlExr0H5e"
   },
   "source": [
    "Speed up of Python Numba GPU 64 bits with respect to pure Python :"
   ]
  },
  {
   "cell_type": "code",
   "execution_count": 55,
   "metadata": {
    "ExecuteTime": {
     "end_time": "2019-03-06T19:55:36.321403Z",
     "start_time": "2019-03-06T19:55:36.316948Z"
    },
    "colab": {
     "base_uri": "https://localhost:8080/",
     "height": 34
    },
    "colab_type": "code",
    "id": "b59ou_qM0H5f",
    "outputId": "d33a21b5-0254-4e09-8850-c85ad832f9c5"
   },
   "outputs": [
    {
     "data": {
      "text/plain": [
       "881.616935944373"
      ]
     },
     "execution_count": 55,
     "metadata": {},
     "output_type": "execute_result"
    }
   ],
   "source": [
    "t_py / t_gpu"
   ]
  },
  {
   "cell_type": "markdown",
   "metadata": {
    "colab_type": "text",
    "id": "loQqrU340H5v"
   },
   "source": [
    "Speed up of Python Numba GPU 64 bits with respect to Python (with NumPy arrays) :"
   ]
  },
  {
   "cell_type": "code",
   "execution_count": 56,
   "metadata": {
    "ExecuteTime": {
     "end_time": "2019-03-06T19:55:36.327143Z",
     "start_time": "2019-03-06T19:55:36.322379Z"
    },
    "colab": {},
    "colab_type": "code",
    "id": "e6DJrORH0H5y"
   },
   "outputs": [],
   "source": [
    "#t_py_a / t_gpu"
   ]
  },
  {
   "cell_type": "markdown",
   "metadata": {
    "colab_type": "text",
    "id": "vlXOXz6_0H57"
   },
   "source": [
    "Speed up of NumPy Numba GPU 64 bits  with respect to Python NumPy :"
   ]
  },
  {
   "cell_type": "code",
   "execution_count": 57,
   "metadata": {
    "ExecuteTime": {
     "end_time": "2019-03-06T19:55:36.332900Z",
     "start_time": "2019-03-06T19:55:36.328214Z"
    },
    "colab": {
     "base_uri": "https://localhost:8080/",
     "height": 34
    },
    "colab_type": "code",
    "id": "sippa2s00H5_",
    "outputId": "fbb4198a-c50a-485f-a210-b52d9da00dda"
   },
   "outputs": [
    {
     "data": {
      "text/plain": [
       "42.459725324520186"
      ]
     },
     "execution_count": 57,
     "metadata": {},
     "output_type": "execute_result"
    }
   ],
   "source": [
    "t_np / t_gpu"
   ]
  },
  {
   "cell_type": "markdown",
   "metadata": {
    "colab_type": "text",
    "id": "iJ83_Vgc0H6G"
   },
   "source": [
    "Speed up of Python Numba GPU 64 bits  with respect to Python Numba CPU (serial) :"
   ]
  },
  {
   "cell_type": "code",
   "execution_count": 58,
   "metadata": {
    "ExecuteTime": {
     "end_time": "2019-03-06T19:55:36.338753Z",
     "start_time": "2019-03-06T19:55:36.333872Z"
    },
    "colab": {
     "base_uri": "https://localhost:8080/",
     "height": 34
    },
    "colab_type": "code",
    "id": "i5bbytfO0H6O",
    "outputId": "61f50b39-8d6b-4403-e3ec-d19a2415da6d"
   },
   "outputs": [
    {
     "data": {
      "text/plain": [
       "6.705378281521882"
      ]
     },
     "execution_count": 58,
     "metadata": {},
     "output_type": "execute_result"
    }
   ],
   "source": [
    "t_nb / t_gpu"
   ]
  },
  {
   "cell_type": "markdown",
   "metadata": {
    "colab_type": "text",
    "id": "2OY30kp40H6T"
   },
   "source": [
    "Speed up of Python Numba GPU 64 bits with respect to Python Numba CPU // :"
   ]
  },
  {
   "cell_type": "code",
   "execution_count": 59,
   "metadata": {
    "ExecuteTime": {
     "end_time": "2019-03-06T19:55:36.345438Z",
     "start_time": "2019-03-06T19:55:36.339983Z"
    },
    "colab": {
     "base_uri": "https://localhost:8080/",
     "height": 34
    },
    "colab_type": "code",
    "id": "RwmLrJiz0H6X",
    "outputId": "3c4871a7-e40d-4f6e-ebf0-d26114791420"
   },
   "outputs": [
    {
     "data": {
      "text/plain": [
       "1.0271376846501343"
      ]
     },
     "execution_count": 59,
     "metadata": {},
     "output_type": "execute_result"
    }
   ],
   "source": [
    "t_nb_parallel / t_gpu"
   ]
  }
 ],
 "metadata": {
  "accelerator": "GPU",
  "colab": {
   "collapsed_sections": [
    "T9vdWw-GfILF",
    "x80NgcamfILK",
    "EAOI7UXifILQ",
    "7rD2D7AeXlzo",
    "8PBNPDBx0HxC"
   ],
   "name": "NBody_M1_N32Kcube_Python_x_NumbaCPU_x_NumbaGPU64_GoogleColab_v1.6.4.ipynb",
   "provenance": [],
   "version": "0.3.2"
  },
  "kernelspec": {
   "display_name": "Python 3",
   "language": "python",
   "name": "python3"
  },
  "language_info": {
   "codemirror_mode": {
    "name": "ipython",
    "version": 3
   },
   "file_extension": ".py",
   "mimetype": "text/x-python",
   "name": "python",
   "nbconvert_exporter": "python",
   "pygments_lexer": "ipython3",
   "version": "3.7.3"
  }
 },
 "nbformat": 4,
 "nbformat_minor": 1
}
