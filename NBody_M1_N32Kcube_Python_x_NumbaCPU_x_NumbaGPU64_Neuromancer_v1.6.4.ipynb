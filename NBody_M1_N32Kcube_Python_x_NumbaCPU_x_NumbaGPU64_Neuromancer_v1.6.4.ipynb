{
 "cells": [
  {
   "cell_type": "markdown",
   "metadata": {
    "colab_type": "text",
    "id": "e2RnaZ0dfILD"
   },
   "source": [
    "# <center> N-Body gravitacional em Python x Python NumPy x </center>\n",
    "# <center> Python Numba CPU x Python Numba CPU // x Python Numba GPU 64 bits </center>\n",
    "## <center> v1.6.5 - 22/11/2018 a 22/02/2019 </center>\n",
    "## <center> $M = 1$ passo, $dt = 0.01$, $N = 32^3 = 32K$ corpos em cubo homogêneo</center>"
   ]
  },
  {
   "cell_type": "markdown",
   "metadata": {
    "colab_type": "text",
    "heading_collapsed": true,
    "id": "T9vdWw-GfILF"
   },
   "source": [
    "### Autoria da v1.0, v1.3, v1.4, 1.6 : Flávio Manoel Santos Hemerli\n",
    "#### Revisão v1.1, v1.2, v1.3.1, v1.4.1, v1.4.6-9, v1.5.0-6, v1.6.2-4 : Roberto Colistete Júnior"
   ]
  },
  {
   "cell_type": "markdown",
   "metadata": {
    "colab_type": "text",
    "hidden": true,
    "id": "NmHlEn0yfILH"
   },
   "source": [
    "Computador do prof. Roberto Colistete Jr. :  \n",
    "**Notebook Dell XPS 15** com CPU [**Intel Core i7 2670QM**](https://ark.intel.com/products/53469/Intel-Core-i7-2670QM-Processor-6M-Cache-up-to-3-10-GHz-) 2,2-3,1 GHz 4 cores/8 threads 6MB cache com GPU integrada Intel HD Graphics 3000 & GPU dedicada [**NVidia GeForce GPU GT 540M**](https://www.geforce.com/hardware/notebook-gpus/geforce-gt-540m/specifications) 2GB 96 cores CC2.1.  \n",
    "Manjaro KDE 18.0.2 64 bits, kernel 4.20.3, gcc 8.2.1, driver NVidia 390.87, CUDA 8.0.  \n",
    "Anaconda 3 2018-12, Python 3.7.1, NumPy 1.15.4, PyCUDA 2018.1.1 (Python 2.7.15), Numba 0.41.0 com CUDAToolkit 8.0."
   ]
  },
  {
   "cell_type": "markdown",
   "metadata": {
    "colab_type": "text",
    "hidden": true,
    "id": "w3YBr1th0Hr4"
   },
   "source": [
    "Computador do prof. Roberto Colistete Jr. :\n",
    "**Notebook Dell G3 15 3579** com CPU [**Intel Core i7 8750H**](https://ark.intel.com/products/134906/Intel-Core-i7-8750H-Processor-9M-Cache-up-to-4-10-GHz-) Kaby Lake 2,2-4,1 GHz 6 cores/12 threads 9MB cache com GPU integrada Intel UHD Graphics 630 & GPU dedicada [**NVidia GeForce GTX 1050 Ti Mobile**](https://www.nvidia.com/en-us/geforce/products/10series/laptops/) 4GB 768 cores CC6.1.   \n",
    "Manjaro KDE 18.0.2 64 bits, kernel 4.20.1, gcc 8.2.1, driver NVidia 415.25, CUDA 10.0.  \n",
    "Anaconda 3 2018-12, Python 3.7.1, NumPy 1.15.4, PyCUDA 2018.1.1 (Python 2.7.15), Numba 0.41.0 com CUDAToolkit 9.2."
   ]
  },
  {
   "cell_type": "markdown",
   "metadata": {
    "colab_type": "text",
    "hidden": true,
    "id": "Rcjl0LPrfILJ"
   },
   "source": [
    "Computador do aluno Flávio Manoel Santos Hemerli:   \n",
    "**Notebook Lenovo Ideapad 320** com CPU [**Intel Core i5 7200U**](https://ark.intel.com/pt-br/products/95443/Intel-Core-i5-7200U-Processor-3M-Cache-up-to-3-10-GHz-) 2,5-3,1 GHz 2 cores/4 threads 3MB cache com GPU integrada Intel HD Graphics 620. 8GB RAM DDR4 2133MHz Dual Channel.  \n",
    "Manjaro Deepin 18.0 64 bits. Anaconda 3 2018-12, Python 3.7.1, NumPy 1.15.4, Numba 0.41.0"
   ]
  },
  {
   "cell_type": "markdown",
   "metadata": {
    "colab_type": "text",
    "hidden": true,
    "id": "qkzFx3MQxyeC"
   },
   "source": [
    "-> **Computador na nuvem Google Colab(oratory)** :  \n",
    "Servidor com CPU [**Intel Xeon** E5-2699 (ou semelhante)](https://ark.intel.com/pt-br/products/81061/Intel-Xeon-Processor-E5-2699-v3-45M-Cache-2-30-GHz-) 2,3-3,6 GHz 18 cores/36 threads 45MB cache & GPU dedicada [**NVidia Tesla K80**](https://www.nvidia.com.br/object/tesla-k80-br.html) 24GB 2x2496 cores CC3.7.  \n",
    "Acessível via Google Colab : Xeon 2 cores 12-13GB de RAM, K80 com (possivelmente) 2496 cores e 11GB de RAM.\n",
    "Ubuntu 18.04.1 64 bits. Python 3.6.7, NumPy 1.14.6, Numba 0.40.1 com CUDA 9.2."
   ]
  },
  {
   "cell_type": "markdown",
   "metadata": {
    "colab_type": "text",
    "heading_collapsed": true,
    "id": "x80NgcamfILK"
   },
   "source": [
    "### Inicialização"
   ]
  },
  {
   "cell_type": "code",
   "execution_count": 3,
   "metadata": {
    "ExecuteTime": {
     "end_time": "2019-02-22T03:46:34.664047Z",
     "start_time": "2019-02-22T03:46:34.521202Z"
    },
    "colab": {},
    "colab_type": "code",
    "hidden": true,
    "id": "abt2D3EOfILL"
   },
   "outputs": [],
   "source": [
    "import math\n",
    "import numpy as np\n",
    "from timeit import default_timer as timer\n",
    "import numba as nb\n",
    "from numba import jit, njit, prange, cuda"
   ]
  },
  {
   "cell_type": "markdown",
   "metadata": {
    "colab_type": "text",
    "heading_collapsed": true,
    "id": "EAOI7UXifILQ"
   },
   "source": [
    "### Informação sobre versão de Linux, CPU :"
   ]
  },
  {
   "cell_type": "code",
   "execution_count": 4,
   "metadata": {
    "ExecuteTime": {
     "end_time": "2019-02-22T03:46:35.652143Z",
     "start_time": "2019-02-22T03:46:35.305108Z"
    },
    "colab": {
     "base_uri": "https://localhost:8080/",
     "height": 0
    },
    "colab_type": "code",
    "executionInfo": {
     "elapsed": 7871,
     "status": "ok",
     "timestamp": 1561848349643,
     "user": {
      "displayName": "Flávio Manoel S. Hemerli",
      "photoUrl": "https://lh6.googleusercontent.com/-3s49zZ8Nl4A/AAAAAAAAAAI/AAAAAAAAdhI/aq_CP_N9-m0/s64/photo.jpg",
      "userId": "09649309852471529099"
     },
     "user_tz": 180
    },
    "hidden": true,
    "id": "wMXtCG4YfILR",
    "outputId": "a1f58b0a-fae3-4079-ad70-467b4670eb10"
   },
   "outputs": [
    {
     "name": "stdout",
     "output_type": "stream",
     "text": [
      "Linux Neuromancer 5.3.12-1-MANJARO #1 SMP PREEMPT Thu Nov 21 10:55:53 UTC 2019 x86_64 GNU/Linux\r\n"
     ]
    }
   ],
   "source": [
    "!uname -a"
   ]
  },
  {
   "cell_type": "code",
   "execution_count": 5,
   "metadata": {
    "ExecuteTime": {
     "end_time": "2019-02-22T03:46:36.002021Z",
     "start_time": "2019-02-22T03:46:35.653654Z"
    },
    "colab": {
     "base_uri": "https://localhost:8080/",
     "height": 0
    },
    "colab_type": "code",
    "executionInfo": {
     "elapsed": 9941,
     "status": "ok",
     "timestamp": 1561848351739,
     "user": {
      "displayName": "Flávio Manoel S. Hemerli",
      "photoUrl": "https://lh6.googleusercontent.com/-3s49zZ8Nl4A/AAAAAAAAAAI/AAAAAAAAdhI/aq_CP_N9-m0/s64/photo.jpg",
      "userId": "09649309852471529099"
     },
     "user_tz": 180
    },
    "hidden": true,
    "id": "D8_7xQftfILX",
    "outputId": "291ce394-d9d6-4677-f418-047293e0a9df",
    "scrolled": false
   },
   "outputs": [
    {
     "name": "stdout",
     "output_type": "stream",
     "text": [
      "LSB Version:\tn/a\r\n",
      "Distributor ID:\tManjaroLinux\r\n",
      "Description:\tManjaro Linux\r\n",
      "Release:\t18.1.3\r\n",
      "Codename:\tJuhraya\r\n"
     ]
    }
   ],
   "source": [
    "!lsb_release -a"
   ]
  },
  {
   "cell_type": "code",
   "execution_count": 6,
   "metadata": {
    "ExecuteTime": {
     "end_time": "2019-02-22T03:46:36.367881Z",
     "start_time": "2019-02-22T03:46:36.003582Z"
    },
    "colab": {
     "base_uri": "https://localhost:8080/",
     "height": 0
    },
    "colab_type": "code",
    "executionInfo": {
     "elapsed": 11759,
     "status": "ok",
     "timestamp": 1561848353573,
     "user": {
      "displayName": "Flávio Manoel S. Hemerli",
      "photoUrl": "https://lh6.googleusercontent.com/-3s49zZ8Nl4A/AAAAAAAAAAI/AAAAAAAAdhI/aq_CP_N9-m0/s64/photo.jpg",
      "userId": "09649309852471529099"
     },
     "user_tz": 180
    },
    "hidden": true,
    "id": "N1tcOTaaXlzZ",
    "outputId": "9175b556-2b54-4acd-be67-93a5a3ac8932"
   },
   "outputs": [
    {
     "name": "stdout",
     "output_type": "stream",
     "text": [
      "Arquitetura:                     x86_64\r\n",
      "Modo(s) operacional da CPU:      32-bit, 64-bit\r\n",
      "Ordem dos bytes:                 Little Endian\r\n",
      "Tamanhos de endereço:            48 bits physical, 48 bits virtual\r\n",
      "CPU(s):                          6\r\n",
      "Lista de CPU(s) on-line:         0-5\r\n",
      "Thread(s) per núcleo:            2\r\n",
      "Núcleo(s) por soquete:           3\r\n",
      "Soquete(s):                      1\r\n",
      "Nó(s) de NUMA:                   1\r\n",
      "ID de fornecedor:                AuthenticAMD\r\n",
      "Família da CPU:                  21\r\n",
      "Modelo:                          1\r\n",
      "Nome do modelo:                  AMD FX(tm)-6100 Six-Core Processor\r\n",
      "Step:                            2\r\n",
      "Aumento de frequência:           habilitado\r\n",
      "CPU MHz:                         2557.199\r\n",
      "CPU MHz máx.:                    3600,0000\r\n",
      "CPU MHz mín.:                    1400,0000\r\n",
      "BogoMIPS:                        7235.79\r\n",
      "Virtualização:                   AMD-V\r\n",
      "cache de L1d:                    48 KiB\r\n",
      "cache de L1i:                    192 KiB\r\n",
      "cache de L2:                     6 MiB\r\n",
      "cache de L3:                     8 MiB\r\n",
      "CPU(s) de nó0 NUMA:              0-5\r\n",
      "Vulnerability Itlb multihit:     Not affected\r\n",
      "Vulnerability L1tf:              Not affected\r\n",
      "Vulnerability Mds:               Not affected\r\n",
      "Vulnerability Meltdown:          Not affected\r\n",
      "Vulnerability Spec store bypass: Mitigation; Speculative Store Bypass disabled v\r\n",
      "                                 ia prctl and seccomp\r\n",
      "Vulnerability Spectre v1:        Mitigation; usercopy/swapgs barriers and __user\r\n",
      "                                  pointer sanitization\r\n",
      "Vulnerability Spectre v2:        Mitigation; Full AMD retpoline, IBPB conditiona\r\n",
      "                                 l, STIBP disabled, RSB filling\r\n",
      "Vulnerability Tsx async abort:   Not affected\r\n",
      "Opções:                          fpu vme de pse tsc msr pae mce cx8 apic sep mtr\r\n",
      "                                 r pge mca cmov pat pse36 clflush mmx fxsr sse s\r\n",
      "                                 se2 ht syscall nx mmxext fxsr_opt pdpe1gb rdtsc\r\n",
      "                                 p lm constant_tsc rep_good nopl nonstop_tsc cpu\r\n",
      "                                 id extd_apicid aperfmperf pni pclmulqdq monitor\r\n",
      "                                  ssse3 cx16 sse4_1 sse4_2 popcnt aes xsave avx \r\n",
      "                                 lahf_lm cmp_legacy svm extapic cr8_legacy abm s\r\n",
      "                                 se4a misalignsse 3dnowprefetch osvw ibs xop ski\r\n",
      "                                 nit wdt fma4 nodeid_msr topoext perfctr_core pe\r\n",
      "                                 rfctr_nb cpb hw_pstate ssbd ibpb vmmcall arat n\r\n",
      "                                 pt lbrv svm_lock nrip_save tsc_scale vmcb_clean\r\n",
      "                                  flushbyasid decodeassists pausefilter pfthresh\r\n",
      "                                 old\r\n"
     ]
    }
   ],
   "source": [
    "!lscpu"
   ]
  },
  {
   "cell_type": "markdown",
   "metadata": {
    "colab_type": "text",
    "hidden": true,
    "id": "f7dTVS8qXlzd"
   },
   "source": [
    "Versão de Numba :"
   ]
  },
  {
   "cell_type": "code",
   "execution_count": 7,
   "metadata": {
    "ExecuteTime": {
     "end_time": "2019-02-22T03:46:36.375758Z",
     "start_time": "2019-02-22T03:46:36.369472Z"
    },
    "colab": {
     "base_uri": "https://localhost:8080/",
     "height": 0
    },
    "colab_type": "code",
    "executionInfo": {
     "elapsed": 11746,
     "status": "ok",
     "timestamp": 1561848353575,
     "user": {
      "displayName": "Flávio Manoel S. Hemerli",
      "photoUrl": "https://lh6.googleusercontent.com/-3s49zZ8Nl4A/AAAAAAAAAAI/AAAAAAAAdhI/aq_CP_N9-m0/s64/photo.jpg",
      "userId": "09649309852471529099"
     },
     "user_tz": 180
    },
    "hidden": true,
    "id": "tFcQaVpZXlzf",
    "outputId": "f0368d51-bdd2-4556-e512-fc4fc3fc337b"
   },
   "outputs": [
    {
     "data": {
      "text/plain": [
       "'0.46.0'"
      ]
     },
     "execution_count": 7,
     "metadata": {},
     "output_type": "execute_result"
    }
   ],
   "source": [
    "nb.__version__"
   ]
  },
  {
   "cell_type": "code",
   "execution_count": 8,
   "metadata": {
    "ExecuteTime": {
     "end_time": "2019-02-22T03:46:36.382329Z",
     "start_time": "2019-02-22T03:46:36.376807Z"
    },
    "colab": {
     "base_uri": "https://localhost:8080/",
     "height": 0
    },
    "colab_type": "code",
    "executionInfo": {
     "elapsed": 11731,
     "status": "ok",
     "timestamp": 1561848353576,
     "user": {
      "displayName": "Flávio Manoel S. Hemerli",
      "photoUrl": "https://lh6.googleusercontent.com/-3s49zZ8Nl4A/AAAAAAAAAAI/AAAAAAAAdhI/aq_CP_N9-m0/s64/photo.jpg",
      "userId": "09649309852471529099"
     },
     "user_tz": 180
    },
    "hidden": true,
    "id": "SFb-mpxhXlzj",
    "outputId": "9fa3769b-f6cb-42cc-8a55-3d5e3dd28a32"
   },
   "outputs": [
    {
     "data": {
      "text/plain": [
       "6"
      ]
     },
     "execution_count": 8,
     "metadata": {},
     "output_type": "execute_result"
    }
   ],
   "source": [
    "nb.config.NUMBA_DEFAULT_NUM_THREADS"
   ]
  },
  {
   "cell_type": "markdown",
   "metadata": {
    "colab_type": "text",
    "hidden": true,
    "id": "UBLOxEKcfILh"
   },
   "source": [
    "Versão de gcc :"
   ]
  },
  {
   "cell_type": "code",
   "execution_count": 9,
   "metadata": {
    "ExecuteTime": {
     "end_time": "2019-02-22T03:46:36.874923Z",
     "start_time": "2019-02-22T03:46:36.530744Z"
    },
    "colab": {
     "base_uri": "https://localhost:8080/",
     "height": 0
    },
    "colab_type": "code",
    "executionInfo": {
     "elapsed": 13993,
     "status": "ok",
     "timestamp": 1561848355852,
     "user": {
      "displayName": "Flávio Manoel S. Hemerli",
      "photoUrl": "https://lh6.googleusercontent.com/-3s49zZ8Nl4A/AAAAAAAAAAI/AAAAAAAAdhI/aq_CP_N9-m0/s64/photo.jpg",
      "userId": "09649309852471529099"
     },
     "user_tz": 180
    },
    "hidden": true,
    "id": "boCzfvuufILi",
    "outputId": "c1f20347-4080-4203-8486-702a45acc880"
   },
   "outputs": [
    {
     "name": "stdout",
     "output_type": "stream",
     "text": [
      "gcc (GCC) 9.2.0\r\n",
      "Copyright (C) 2019 Free Software Foundation, Inc.\r\n",
      "This is free software; see the source for copying conditions.  There is NO\r\n",
      "warranty; not even for MERCHANTABILITY or FITNESS FOR A PARTICULAR PURPOSE.\r\n",
      "\r\n"
     ]
    }
   ],
   "source": [
    "!gcc --version"
   ]
  },
  {
   "cell_type": "markdown",
   "metadata": {
    "colab_type": "text",
    "hidden": true,
    "id": "AArlEBiGfILn"
   },
   "source": [
    "Versão de Python :"
   ]
  },
  {
   "cell_type": "code",
   "execution_count": 10,
   "metadata": {
    "ExecuteTime": {
     "end_time": "2019-02-22T03:46:37.220197Z",
     "start_time": "2019-02-22T03:46:36.876492Z"
    },
    "colab": {
     "base_uri": "https://localhost:8080/",
     "height": 0
    },
    "colab_type": "code",
    "executionInfo": {
     "elapsed": 16570,
     "status": "ok",
     "timestamp": 1561848358443,
     "user": {
      "displayName": "Flávio Manoel S. Hemerli",
      "photoUrl": "https://lh6.googleusercontent.com/-3s49zZ8Nl4A/AAAAAAAAAAI/AAAAAAAAdhI/aq_CP_N9-m0/s64/photo.jpg",
      "userId": "09649309852471529099"
     },
     "user_tz": 180
    },
    "hidden": true,
    "id": "bF48TQpnfILo",
    "outputId": "280b29d7-9ffe-4bdc-b00f-2331c3b0823d",
    "scrolled": true
   },
   "outputs": [
    {
     "name": "stdout",
     "output_type": "stream",
     "text": [
      "Python 3.7.4\r\n"
     ]
    }
   ],
   "source": [
    "!python --version"
   ]
  },
  {
   "cell_type": "markdown",
   "metadata": {
    "colab_type": "text",
    "hidden": true,
    "id": "kMKtbq_tfILt"
   },
   "source": [
    "Versão de NumPy :"
   ]
  },
  {
   "cell_type": "code",
   "execution_count": 11,
   "metadata": {
    "ExecuteTime": {
     "end_time": "2019-02-22T03:46:37.225312Z",
     "start_time": "2019-02-22T03:46:37.221850Z"
    },
    "colab": {
     "base_uri": "https://localhost:8080/",
     "height": 0
    },
    "colab_type": "code",
    "executionInfo": {
     "elapsed": 16560,
     "status": "ok",
     "timestamp": 1561848358446,
     "user": {
      "displayName": "Flávio Manoel S. Hemerli",
      "photoUrl": "https://lh6.googleusercontent.com/-3s49zZ8Nl4A/AAAAAAAAAAI/AAAAAAAAdhI/aq_CP_N9-m0/s64/photo.jpg",
      "userId": "09649309852471529099"
     },
     "user_tz": 180
    },
    "hidden": true,
    "id": "hFxDTbsefILu",
    "outputId": "d7e2e5b6-c22c-4b2d-ee2d-c06df875a457"
   },
   "outputs": [
    {
     "data": {
      "text/plain": [
       "'1.17.4'"
      ]
     },
     "execution_count": 11,
     "metadata": {},
     "output_type": "execute_result"
    }
   ],
   "source": [
    "np.__version__"
   ]
  },
  {
   "cell_type": "markdown",
   "metadata": {
    "colab_type": "text",
    "heading_collapsed": true,
    "id": "7rD2D7AeXlzo"
   },
   "source": [
    "### Informação sobre GPU/CUDA :"
   ]
  },
  {
   "cell_type": "code",
   "execution_count": 12,
   "metadata": {
    "ExecuteTime": {
     "end_time": "2019-02-22T03:46:37.382478Z",
     "start_time": "2019-02-22T03:46:37.376526Z"
    },
    "colab": {
     "base_uri": "https://localhost:8080/",
     "height": 0
    },
    "colab_type": "code",
    "executionInfo": {
     "elapsed": 16552,
     "status": "ok",
     "timestamp": 1561848358447,
     "user": {
      "displayName": "Flávio Manoel S. Hemerli",
      "photoUrl": "https://lh6.googleusercontent.com/-3s49zZ8Nl4A/AAAAAAAAAAI/AAAAAAAAdhI/aq_CP_N9-m0/s64/photo.jpg",
      "userId": "09649309852471529099"
     },
     "user_tz": 180
    },
    "hidden": true,
    "id": "jzriGE05Xlzp",
    "outputId": "6f06414c-309e-4c8c-c73b-3476fe7fda2b"
   },
   "outputs": [
    {
     "name": "stdout",
     "output_type": "stream",
     "text": [
      "<Managed Device 0>\n"
     ]
    }
   ],
   "source": [
    "print(cuda.gpus)"
   ]
  },
  {
   "cell_type": "code",
   "execution_count": 13,
   "metadata": {
    "ExecuteTime": {
     "end_time": "2019-02-22T03:46:37.502927Z",
     "start_time": "2019-02-22T03:46:37.499707Z"
    },
    "colab": {
     "base_uri": "https://localhost:8080/",
     "height": 0
    },
    "colab_type": "code",
    "executionInfo": {
     "elapsed": 16541,
     "status": "ok",
     "timestamp": 1561848358449,
     "user": {
      "displayName": "Flávio Manoel S. Hemerli",
      "photoUrl": "https://lh6.googleusercontent.com/-3s49zZ8Nl4A/AAAAAAAAAAI/AAAAAAAAdhI/aq_CP_N9-m0/s64/photo.jpg",
      "userId": "09649309852471529099"
     },
     "user_tz": 180
    },
    "hidden": true,
    "id": "MXv4i8XWXlzv",
    "outputId": "f484f2c9-2192-4fe1-d394-33d6dfbf7344"
   },
   "outputs": [
    {
     "data": {
      "text/plain": [
       "True"
      ]
     },
     "execution_count": 13,
     "metadata": {},
     "output_type": "execute_result"
    }
   ],
   "source": [
    "cuda.is_available()"
   ]
  },
  {
   "cell_type": "code",
   "execution_count": 14,
   "metadata": {
    "ExecuteTime": {
     "end_time": "2019-02-22T03:46:37.639866Z",
     "start_time": "2019-02-22T03:46:37.636623Z"
    },
    "colab": {
     "base_uri": "https://localhost:8080/",
     "height": 0
    },
    "colab_type": "code",
    "executionInfo": {
     "elapsed": 16527,
     "status": "ok",
     "timestamp": 1561848358450,
     "user": {
      "displayName": "Flávio Manoel S. Hemerli",
      "photoUrl": "https://lh6.googleusercontent.com/-3s49zZ8Nl4A/AAAAAAAAAAI/AAAAAAAAdhI/aq_CP_N9-m0/s64/photo.jpg",
      "userId": "09649309852471529099"
     },
     "user_tz": 180
    },
    "hidden": true,
    "id": "io7uyntVXlzy",
    "outputId": "ca6fb087-c965-4f9b-8646-d928d7a6142b"
   },
   "outputs": [
    {
     "name": "stdout",
     "output_type": "stream",
     "text": [
      "Found 1 CUDA devices\n",
      "id 0    b'GeForce GTX 750 Ti'                              [SUPPORTED]\n",
      "                      compute capability: 5.0\n",
      "                           pci device id: 0\n",
      "                              pci bus id: 1\n",
      "Summary:\n",
      "\t1/1 devices are supported\n"
     ]
    },
    {
     "data": {
      "text/plain": [
       "True"
      ]
     },
     "execution_count": 14,
     "metadata": {},
     "output_type": "execute_result"
    }
   ],
   "source": [
    "cuda.detect()"
   ]
  },
  {
   "cell_type": "code",
   "execution_count": 15,
   "metadata": {
    "ExecuteTime": {
     "end_time": "2019-02-22T03:46:37.836936Z",
     "start_time": "2019-02-22T03:46:37.777520Z"
    },
    "colab": {
     "base_uri": "https://localhost:8080/",
     "height": 0
    },
    "colab_type": "code",
    "executionInfo": {
     "elapsed": 16519,
     "status": "ok",
     "timestamp": 1561848358452,
     "user": {
      "displayName": "Flávio Manoel S. Hemerli",
      "photoUrl": "https://lh6.googleusercontent.com/-3s49zZ8Nl4A/AAAAAAAAAAI/AAAAAAAAdhI/aq_CP_N9-m0/s64/photo.jpg",
      "userId": "09649309852471529099"
     },
     "user_tz": 180
    },
    "hidden": true,
    "id": "zDXj8oMxXlz2",
    "outputId": "3eab70f9-9562-4403-a634-b61ee0e19c84"
   },
   "outputs": [
    {
     "data": {
      "text/plain": [
       "b'GeForce GTX 750 Ti'"
      ]
     },
     "execution_count": 15,
     "metadata": {},
     "output_type": "execute_result"
    }
   ],
   "source": [
    "cuda.select_device(0).name"
   ]
  },
  {
   "cell_type": "code",
   "execution_count": 16,
   "metadata": {
    "ExecuteTime": {
     "end_time": "2019-02-22T03:46:37.955205Z",
     "start_time": "2019-02-22T03:46:37.952428Z"
    },
    "colab": {
     "base_uri": "https://localhost:8080/",
     "height": 0
    },
    "colab_type": "code",
    "executionInfo": {
     "elapsed": 16512,
     "status": "ok",
     "timestamp": 1561848358453,
     "user": {
      "displayName": "Flávio Manoel S. Hemerli",
      "photoUrl": "https://lh6.googleusercontent.com/-3s49zZ8Nl4A/AAAAAAAAAAI/AAAAAAAAdhI/aq_CP_N9-m0/s64/photo.jpg",
      "userId": "09649309852471529099"
     },
     "user_tz": 180
    },
    "hidden": true,
    "id": "sdLhQYhvXlz6",
    "outputId": "de34b4dd-851b-4683-c5e9-21a234e03815"
   },
   "outputs": [
    {
     "data": {
      "text/plain": [
       "(5, 0)"
      ]
     },
     "execution_count": 16,
     "metadata": {},
     "output_type": "execute_result"
    }
   ],
   "source": [
    "cuda.get_current_device().compute_capability"
   ]
  },
  {
   "cell_type": "code",
   "execution_count": 17,
   "metadata": {
    "ExecuteTime": {
     "end_time": "2019-02-22T03:46:38.203701Z",
     "start_time": "2019-02-22T03:46:38.200406Z"
    },
    "colab": {
     "base_uri": "https://localhost:8080/",
     "height": 0
    },
    "colab_type": "code",
    "executionInfo": {
     "elapsed": 16743,
     "status": "ok",
     "timestamp": 1561848358692,
     "user": {
      "displayName": "Flávio Manoel S. Hemerli",
      "photoUrl": "https://lh6.googleusercontent.com/-3s49zZ8Nl4A/AAAAAAAAAAI/AAAAAAAAdhI/aq_CP_N9-m0/s64/photo.jpg",
      "userId": "09649309852471529099"
     },
     "user_tz": 180
    },
    "hidden": true,
    "id": "0js4Lfl-Xl0D",
    "outputId": "bafa8c6a-7978-464c-fa23-28a17f2cd734"
   },
   "outputs": [],
   "source": [
    "#cuda.current_context(1).get_memory_info()"
   ]
  },
  {
   "cell_type": "markdown",
   "metadata": {
    "colab_type": "text",
    "heading_collapsed": true,
    "id": "8PBNPDBx0HxC"
   },
   "source": [
    "## Definições de nbody para Python puro, NumPy, Numba CPU, Numba CPU // e Numba GPU"
   ]
  },
  {
   "cell_type": "code",
   "execution_count": 18,
   "metadata": {
    "ExecuteTime": {
     "end_time": "2019-02-22T03:46:38.680656Z",
     "start_time": "2019-02-22T03:46:38.678691Z"
    },
    "colab": {},
    "colab_type": "code",
    "hidden": true,
    "id": "VF-GC1E60HxE"
   },
   "outputs": [],
   "source": [
    "G = 6.67408*1e-11 # define a constante gravitacional\n",
    "sft = 1e-10 # define a constante de atenuamento para tratamento das singularidades"
   ]
  },
  {
   "cell_type": "code",
   "execution_count": 19,
   "metadata": {
    "ExecuteTime": {
     "end_time": "2019-02-22T03:46:38.911000Z",
     "start_time": "2019-02-22T03:46:38.882587Z"
    },
    "code_folding": [],
    "colab": {},
    "colab_type": "code",
    "hidden": true,
    "id": "qIzNIpOv0HxN"
   },
   "outputs": [],
   "source": [
    "@njit\n",
    "def gravitationalNbody_NumbaCPU(r, v, a, m, nobj, ninter, dt, flag_Energy=False):\n",
    "    for inter in range(ninter):\n",
    "        for i in range(nobj):\n",
    "            a[i][0] = 0.0; a[i][1] = 0.0; a[i][2] = 0.0\n",
    "            for j in range(nobj):\n",
    "                if i != j:\n",
    "                    # calculate a_ij acceleration\n",
    "                    dx = r[j][0] - r[i][0]; dy = r[j][1] - r[i][1]; dz = r[j][2] - r[i][2]\n",
    "                    dsq = dx*dx + dy*dy + dz*dz + sft*sft\n",
    "                    gA = (G*m[j])/(dsq*math.sqrt(dsq))\n",
    "                    # sum a_ij_x to a_i_x, etc\n",
    "                    a[i][0] += gA*dx; a[i][1] += gA*dy; a[i][2] += gA*dz\n",
    "            # update the v_i velocity\n",
    "            v[i][0] += a[i][0]*dt; v[i][1] += a[i][1]*dt; v[i][2] += a[i][2]*dt\n",
    "        for i in range(nobj):\n",
    "            # update the r_i position\n",
    "            r[i][0] += v[i][0]*dt; r[i][1] += v[i][1]*dt; r[i][2] += v[i][2]*dt\n",
    "    K = 0.0; U = 0.0\n",
    "    if flag_Energy:\n",
    "        for i in range(nobj):\n",
    "            # Sum the total kinectic energy\n",
    "            K += 0.5*m[i]*(v[i][0]**2 + v[i][1]**2 + v[i][2]**2)\n",
    "            for j in range(nobj):\n",
    "                if (i < j):\n",
    "                    # Sum the total potential energy\n",
    "                    U += (-G*m[i]*m[j])/math.sqrt((r[j][0] - r[i][0])**2 + (r[j][1] - r[i][1])**2 + \n",
    "                                                  (r[j][2] - r[i][2])**2 + sft**2)\n",
    "    return K, U"
   ]
  },
  {
   "cell_type": "code",
   "execution_count": 20,
   "metadata": {
    "ExecuteTime": {
     "end_time": "2019-02-22T03:46:39.061809Z",
     "start_time": "2019-02-22T03:46:39.051164Z"
    },
    "code_folding": [],
    "colab": {},
    "colab_type": "code",
    "hidden": true,
    "id": "GEGiujCE0HxY"
   },
   "outputs": [],
   "source": [
    "@njit(parallel=True)\n",
    "def gravitationalNbody_NumbaCPUparallel(r, v, a, m, nobj, ninter, dt, flag_Energy=False):\n",
    "    for inter in range(ninter):\n",
    "        for i in prange(nobj):\n",
    "            a[i][0] = 0.0; a[i][1] = 0.0; a[i][2] = 0.0\n",
    "            for j in range(nobj):\n",
    "                if i != j:\n",
    "                    # calculate a_ij acceleration\n",
    "                    dx = r[j][0] - r[i][0]; dy = r[j][1] - r[i][1]; dz = r[j][2] - r[i][2]\n",
    "                    dsq = dx*dx + dy*dy + dz*dz + sft*sft\n",
    "                    gA = (G*m[j])/(dsq*math.sqrt(dsq))\n",
    "                    # sum a_ij_x to a_i_x, etc\n",
    "                    a[i][0] += gA*dx; a[i][1] += gA*dy; a[i][2] += gA*dz\n",
    "            # update the v_i velocity\n",
    "            v[i][0] += a[i][0]*dt; v[i][1] += a[i][1]*dt; v[i][2] += a[i][2]*dt\n",
    "        for i in prange(nobj):\n",
    "            # update the r_i position\n",
    "            r[i][0] += v[i][0]*dt; r[i][1] += v[i][1]*dt; r[i][2] += v[i][2]*dt\n",
    "    K = 0.0; U = 0.0\n",
    "    if flag_Energy:\n",
    "        for i in prange(nobj):\n",
    "            # Sum the total kinectic energy\n",
    "            K += 0.5*m[i]*(v[i][0]**2 + v[i][1]**2 + v[i][2]**2)\n",
    "            for j in range(nobj):\n",
    "                if (i < j):\n",
    "                    # Sum the total potential energy\n",
    "                    U += (-G*m[i]*m[j])/math.sqrt((r[j][0] - r[i][0])**2 + (r[j][1] - r[i][1])**2 + \n",
    "                                                  (r[j][2] - r[i][2])**2 + sft**2)\n",
    "    return K, U"
   ]
  },
  {
   "cell_type": "code",
   "execution_count": 21,
   "metadata": {
    "ExecuteTime": {
     "end_time": "2019-02-22T03:46:39.319370Z",
     "start_time": "2019-02-22T03:46:39.312095Z"
    },
    "colab": {},
    "colab_type": "code",
    "hidden": true,
    "id": "uSzqGZB-0Hxk"
   },
   "outputs": [],
   "source": [
    "@njit\n",
    "def gravitationalNbody_NumPy_NumbaCPU(r, v, a, m, nobj, ninter, dt, flag_Energy=False):\n",
    "    for inter in range(ninter):\n",
    "        # zero the a acceleration\n",
    "        a = np.zeros((nobj, 3))\n",
    "        for i in range(nobj):\n",
    "            # update the a acceleration\n",
    "            dr = r[i] - r\n",
    "            dsq = np.sum(dr*dr, axis=1) + sft*sft\n",
    "            gA = (G*m[i])/(dsq*np.sqrt(dsq))\n",
    "            a += (dr.T*gA).T\n",
    "        # update the v velocity\n",
    "        v += a*dt\n",
    "        # update the r position\n",
    "        r += v*dt\n",
    "    K = 0.0; U = 0.0\n",
    "    if flag_Energy:\n",
    "        # Sum the total kinetic energy\n",
    "        K = np.sum(0.5*m*np.sum(v*v, axis=1))\n",
    "        U = 0.0\n",
    "        for i in range(nobj):\n",
    "            for j in range(nobj):\n",
    "                if (i < j):\n",
    "                    # Sum the total potential energy\n",
    "                    U += (-G*m[i]*m[j])/math.sqrt((r[j][0] - r[i][0])**2 + (r[j][1] - r[i][1])**2 + \n",
    "                                                  (r[j][2] - r[i][2])**2 + sft**2)\n",
    "    return K, U"
   ]
  },
  {
   "cell_type": "code",
   "execution_count": 22,
   "metadata": {
    "ExecuteTime": {
     "end_time": "2019-02-22T03:46:39.507138Z",
     "start_time": "2019-02-22T03:46:39.501340Z"
    },
    "code_folding": [],
    "colab": {},
    "colab_type": "code",
    "hidden": true,
    "id": "7lYomsBB0Hx2"
   },
   "outputs": [],
   "source": [
    "@njit(parallel=True)\n",
    "def gravitationalNbody_NumPy_NumbaCPUparallel(r, v, a, m, nobj, ninter, dt, flag_Energy=False):\n",
    "    for inter in range(ninter):\n",
    "        # zero the a acceleration\n",
    "        a = np.zeros((nobj, 3))\n",
    "        for i in prange(nobj):\n",
    "            # update the a acceleration\n",
    "            dr = r[i] - r\n",
    "            dsq = np.sum(dr*dr, axis=1) + sft*sft\n",
    "            gA = (G*m[i])/(dsq*np.sqrt(dsq))\n",
    "            a += (dr.T*gA).T\n",
    "        # update the v velocity\n",
    "        v += a*dt\n",
    "        # update the r position\n",
    "        r += v*dt\n",
    "    K = 0.0; U = 0.0\n",
    "    if flag_Energy:\n",
    "        K = np.sum(0.5*m*np.sum(v*v, axis=1))\n",
    "        U = 0.0\n",
    "        for i in prange(nobj):\n",
    "            for j in range(nobj):\n",
    "                if (i < j):\n",
    "                    # Sum the total potential energy\n",
    "                    U += (-G*m[i]*m[j])/math.sqrt((r[j][0] - r[i][0])**2 + (r[j][1] - r[i][1])**2 + \n",
    "                                                  (r[j][2] - r[i][2])**2 + sft**2)\n",
    "    return K, U"
   ]
  },
  {
   "cell_type": "code",
   "execution_count": 23,
   "metadata": {
    "ExecuteTime": {
     "end_time": "2019-02-22T03:46:39.883058Z",
     "start_time": "2019-02-22T03:46:39.636440Z"
    },
    "colab": {},
    "colab_type": "code",
    "hidden": true,
    "id": "s8geOgb50HyO"
   },
   "outputs": [],
   "source": [
    "@cuda.jit(\"(float64[:,:], float64[:,:], float64[:,:], float64[:], int32, float64)\")\n",
    "def gravitationalNbody_a_v_ij_NumbaGPU64(r, v, a, m, nobj, dt):\n",
    "    i = cuda.grid(1)\n",
    "    if i < nobj:\n",
    "        a[i][0] = 0.0; a[i][1] = 0.0; a[i][2] = 0.0\n",
    "        for j in range(nobj):\n",
    "            if i != j:\n",
    "                dx = r[j][0] - r[i][0]; dy = r[j][1] - r[i][1]; dz = r[j][2] - r[i][2]\n",
    "                dsq = dx*dx + dy*dy + dz*dz + sft*sft\n",
    "                gA = (G*m[j])/(dsq*math.sqrt(dsq))\n",
    "                # sum a_ij_x to a_i_x, etc\n",
    "                a[i][0] += gA*dx; a[i][1] += gA*dy; a[i][2] += gA*dz\n",
    "        v[i][0] += a[i][0]*dt; v[i][1] += a[i][1]*dt; v[i][2] += a[i][2]*dt"
   ]
  },
  {
   "cell_type": "code",
   "execution_count": 24,
   "metadata": {
    "ExecuteTime": {
     "end_time": "2019-02-22T03:46:40.217656Z",
     "start_time": "2019-02-22T03:46:40.124484Z"
    },
    "colab": {},
    "colab_type": "code",
    "hidden": true,
    "id": "DR-taZZa0Hyb"
   },
   "outputs": [],
   "source": [
    "@cuda.jit(\"(float64[:,:], float64[:,:], int32, float64)\")        \n",
    "def gravitationalNbody_r_i_NumbaGPU64(r, v, nobj, dt):\n",
    "    i = cuda.grid(1)\n",
    "    if i < nobj:\n",
    "        r[i][0] += v[i][0]*dt; r[i][1] += v[i][1]*dt; r[i][2] += v[i][2]*dt"
   ]
  },
  {
   "cell_type": "code",
   "execution_count": 25,
   "metadata": {
    "ExecuteTime": {
     "end_time": "2019-02-22T03:46:40.515302Z",
     "start_time": "2019-02-22T03:46:40.307791Z"
    },
    "colab": {},
    "colab_type": "code",
    "hidden": true,
    "id": "J0ISULb-0Hyo"
   },
   "outputs": [],
   "source": [
    "@cuda.jit(\"(float64[:,:], float64[:,:], float64[:], int32, float64[:])\")\n",
    "def gravitationalNbody_K_U_NumbaCUDA(r, v, m, nobj, K_U):\n",
    "    i = cuda.grid(1)\n",
    "    if i < nobj:\n",
    "        K_U[0] += 0.5*m[i]*(v[i][0]**2 + v[i][1]**2 + v[i][2]**2)\n",
    "        for j in range(nobj):\n",
    "            if (i < j):\n",
    "                K_U[1] += (-G*m[i]*m[j])/math.sqrt((r[j][0] - r[i][0])**2 + (r[j][1] - r[i][1])**2 + \n",
    "                                              (r[j][2] - r[i][2])**2 + sft**2)"
   ]
  },
  {
   "cell_type": "code",
   "execution_count": 26,
   "metadata": {
    "ExecuteTime": {
     "end_time": "2019-02-22T03:46:40.835541Z",
     "start_time": "2019-02-22T03:46:40.827717Z"
    },
    "colab": {},
    "colab_type": "code",
    "hidden": true,
    "id": "JejEgq2F0Hy3"
   },
   "outputs": [],
   "source": [
    "@jit(parallel=True)\n",
    "def gravitationalNbody_NumbaGPU64(r, v, a, m, nobj, ninter, dt, flag_Energy=False):\n",
    "    threadsperblock = 128\n",
    "    blockspergrid = (nobj + (threadsperblock - 1)) // threadsperblock\n",
    "    print(\"Threads per block = {}; Blocks per grid = {}\".format(threadsperblock, blockspergrid))\n",
    "    htod_ti = timer()\n",
    "    d_r = cuda.to_device(r); d_v = cuda.to_device(v); d_a = cuda.to_device(a); d_m = cuda.to_device(m)\n",
    "    htod_tf = timer()\n",
    "    for inter in range(ninter):\n",
    "        gravitationalNbody_a_v_ij_NumbaGPU64[blockspergrid, threadsperblock](d_r, d_v, d_a, d_m, nobj, dt)\n",
    "        cuda.synchronize()\n",
    "        gravitationalNbody_r_i_NumbaGPU64[blockspergrid, threadsperblock](d_r, d_v, nobj, dt)\n",
    "        cuda.synchronize()\n",
    "    dtoh_ti = timer()\n",
    "    d_r.copy_to_host(r); d_v.copy_to_host(v); d_a.copy_to_host(a); d_m.copy_to_host(m)\n",
    "    dtoh_tf = timer()\n",
    "    K = 0.0; U = 0.0\n",
    "    if flag_Energy:\n",
    "        for i in prange(nobj):\n",
    "            # Sum the total kinectic energy\n",
    "            K += 0.5*m[i]*(v[i][0]**2 + v[i][1]**2 + v[i][2]**2)\n",
    "            for j in range(nobj):\n",
    "                if (i < j):\n",
    "                    # Sum the total potential energy\n",
    "                    U += (-G*m[i]*m[j])/math.sqrt((r[j][0] - r[i][0])**2 + (r[j][1] - r[i][1])**2 + \n",
    "                                                  (r[j][2] - r[i][2])**2 + sft**2)\n",
    "    print(\"Copied data from CPU to GPU after {} s\".format(htod_tf - htod_ti))\n",
    "    print(\"GPU calculations done after {} s\".format(dtoh_ti - htod_tf))\n",
    "    print(\"Copied data from GPU to CPU after {} s\".format(dtoh_tf - dtoh_ti))\n",
    "    print(\"Copies CPU<->GPU and GPU calculations after {} s\".format(dtoh_tf - htod_ti))\n",
    "    return K, U\n",
    "#    Energies_K_U = np.zeros(2)\n",
    "#    if flag_Energy:\n",
    "#        gravitationalNbody_K_U_NumbaCUDA[blockspergrid, threadsperblock](r, v, m, nobj, Energies_K_U)\n",
    "#        cuda.synchronize()\n",
    "#    return Energies_K_U[0], Energies_K_U[1]"
   ]
  },
  {
   "cell_type": "code",
   "execution_count": 27,
   "metadata": {
    "ExecuteTime": {
     "end_time": "2019-02-22T03:46:41.348304Z",
     "start_time": "2019-02-22T03:46:41.335771Z"
    },
    "code_folding": [],
    "colab": {},
    "colab_type": "code",
    "hidden": true,
    "id": "3hKhX66a0HzE",
    "scrolled": true
   },
   "outputs": [],
   "source": [
    "# n_cube_edge : número de pontos l de cada aresta de um cubo\n",
    "# ninter : M, número de interações\n",
    "# dt : dt, intervalo entre interações\n",
    "def run_nbody(gravitationalNbodyfunction, n_cube_edge=10, ninter = 5, dt = 0.01, \n",
    "              flag_array=True, flag_compile=True, flag_Energy= False, flag_verbose=False):\n",
    "    nbody_version = \"1.6.4\"\n",
    "\n",
    "    nobj = n_cube_edge**3 # define o número de objetos na simulação\n",
    "    if flag_array:\n",
    "        positions = np.zeros((nobj, 3))   # inicializa uma lista de N posições 3D, nulas inicialmente\n",
    "        velocities = np.zeros_like(positions)   # inicializa uma lista de N velocidades 3D, nulas inicialmente\n",
    "        accelerations = np.zeros_like(positions)   # inicializa uma lista de N acelerações 3D, nulas inicialmente\n",
    "        masses = 1e9*np.ones(nobj)   # inicializa uma lista de N massas, aqui iguais a 10^6 kg\n",
    "    else:\n",
    "        positions = [[0., 0., 0.] for i in range(nobj)]   # inicializa uma lista de N de objetos para posição e massa, nulas inicialmente\n",
    "        velocities = [[0., 0., 0.] for i in range(nobj)]   # inicializa uma lista de N velocidades 3D, nulas inicialmente\n",
    "        accelerations = [[0., 0., 0.] for i in range(nobj)]   # inicializa uma lista de N acelerações 3D, nulas inicialmente\n",
    "        masses = [1e9]*nobj   # inicializa uma lista de N massas, aqui iguais a 10^6 kg\n",
    "    # Cria um cubo de l^3 pontos, onde cada aresta tem l pontos   \n",
    "    scale = 1.0  # escala do cubo, com comprimento da aresta = scale*n_cube_edge\n",
    "    n_half_cube_edge = int(n_cube_edge/2)\n",
    "    for i in range(n_cube_edge):\n",
    "        for j in range(n_cube_edge):\n",
    "            for k in range(n_cube_edge):\n",
    "                positions[k + j*n_cube_edge + i*n_cube_edge*n_cube_edge] = [(i - n_half_cube_edge)*scale, \n",
    "                                                                            (j - n_half_cube_edge)*scale,\n",
    "                                                                            (k - n_half_cube_edge)*scale]                \n",
    "    if flag_compile:\n",
    "        # To Numba compile the function 1st time before calling with full data\n",
    "        positions_backup = positions.copy()\n",
    "        velocities_backup = velocities.copy()\n",
    "        accelerations_backup = accelerations.copy()\n",
    "        print(\"N-Body (C) Flavio Manoel, v{}\".format(nbody_version))\n",
    "        print(\"N = {} corpos, dt = {}s, M = {} interações\".format(nobj, dt, ninter))\n",
    "        start = timer()\n",
    "        Kf, Uf = gravitationalNbodyfunction(positions, velocities, accelerations, masses, nobj, ninter, dt, \n",
    "                                            flag_Energy=flag_Energy)\n",
    "        end = timer()\n",
    "        if flag_Energy:\n",
    "            print(\"Após {} passos, {:.4f}s, Ef = {}, Kf = {}, Uf = {}\".format(ninter, ninter*dt, \n",
    "                                                                                          Kf + Uf, Kf, Uf))\n",
    "        dt_compile_run = end - start\n",
    "        print(\"Código executado em {:.6f} s\\n\".format(dt_compile_run))\n",
    "        positions = positions_backup.copy()\n",
    "        velocities = velocities_backup.copy()\n",
    "        accelerations = accelerations_backup.copy()\n",
    "    else:\n",
    "        dt_compile_run = 0.0\n",
    "        \n",
    "    print(\"N-Body (C) Flavio Manoel, v{}\".format(nbody_version))\n",
    "    print(\"N = {} corpos, dt = {}s, M = {} interações\".format(nobj, dt, ninter))\n",
    "    if flag_verbose:\n",
    "        print(\"Posições = {}\\nVelocidades = {}\\nAcelerações = {}\\nMassas = {}\\n\".format(positions, \n",
    "              velocities, accelerations, masses))\n",
    "    start = timer()\n",
    "    if flag_Energy:\n",
    "        Ki, Ui = gravitationalNbodyfunction(positions, velocities, accelerations, masses, nobj, 0, dt, \n",
    "                                            flag_Energy=flag_Energy)\n",
    "        print(\"Ei = {}, Ki = {}, Ui = {}\".format(Ki + Ui, Ki, Ui))\n",
    "    Kf, Uf = gravitationalNbodyfunction(positions, velocities, accelerations, masses, nobj, ninter, dt, \n",
    "                                        flag_Energy=flag_Energy)\n",
    "    end = timer()\n",
    "    if flag_Energy:\n",
    "        erro_perc = 100.0*(Kf + Uf - (Ki + Ui))/(Ki + Ui)\n",
    "        print(\"Após {} passos, {:.4f}s :\\nEf = {}, Kf = {}, Uf = {}, erro em E = {}%\".format(ninter, \n",
    "               ninter*dt, Kf + Uf, Kf, Uf, erro_perc))\n",
    "    else:\n",
    "        erro_perc = 0.0\n",
    "    dt_run = end - start\n",
    "    print(\"Código executado em {:.6f} s\".format(dt_run))\n",
    "    if flag_verbose:\n",
    "        print(\"\\nPositions = {}\\nVelocities = {}\\nAccelerations = {}\".format(positions, velocities, \n",
    "                                                                             accelerations))\n",
    "    return dt_compile_run, dt_run, erro_perc"
   ]
  },
  {
   "cell_type": "markdown",
   "metadata": {
    "colab_type": "text",
    "id": "mafb_M3q0HzL"
   },
   "source": [
    "## Testes de nbody"
   ]
  },
  {
   "cell_type": "code",
   "execution_count": 28,
   "metadata": {
    "ExecuteTime": {
     "end_time": "2019-02-22T03:46:42.788896Z",
     "start_time": "2019-02-22T03:46:42.786657Z"
    },
    "colab": {},
    "colab_type": "code",
    "id": "fGLFkT5N0HzN"
   },
   "outputs": [],
   "source": [
    "n_cube_edge=32; ninter = 1; dt = 0.01"
   ]
  },
  {
   "cell_type": "markdown",
   "metadata": {
    "colab_type": "text",
    "id": "m0IgWcQa0HzT"
   },
   "source": [
    "### Teste de nbody em Python puro"
   ]
  },
  {
   "cell_type": "code",
   "execution_count": 29,
   "metadata": {
    "ExecuteTime": {
     "end_time": "2019-02-22T03:34:03.856417Z",
     "start_time": "2019-02-22T03:34:00.237311Z"
    },
    "colab": {},
    "colab_type": "code",
    "id": "ZshKpfHr0HzW"
   },
   "outputs": [],
   "source": [
    "#t_all_py, t_py, erro_py = run_nbody(gravitationalNbody_NumbaCPU.py_func, n_cube_edge=n_cube_edge, ninter=ninter, \n",
    "#                                    dt=dt, flag_array=False, flag_Energy=True, flag_compile=False)"
   ]
  },
  {
   "cell_type": "code",
   "execution_count": 30,
   "metadata": {
    "ExecuteTime": {
     "end_time": "2019-02-22T03:34:06.923179Z",
     "start_time": "2019-02-22T03:34:03.857981Z"
    },
    "colab": {
     "base_uri": "https://localhost:8080/",
     "height": 68
    },
    "colab_type": "code",
    "executionInfo": {
     "elapsed": 1470161,
     "status": "ok",
     "timestamp": 1561849812134,
     "user": {
      "displayName": "Flávio Manoel S. Hemerli",
      "photoUrl": "https://lh6.googleusercontent.com/-3s49zZ8Nl4A/AAAAAAAAAAI/AAAAAAAAdhI/aq_CP_N9-m0/s64/photo.jpg",
      "userId": "09649309852471529099"
     },
     "user_tz": 180
    },
    "id": "Z3asKC_50Hzf",
    "outputId": "cc097e8d-9002-4751-84ae-1f7bd6fcf75e"
   },
   "outputs": [
    {
     "name": "stdout",
     "output_type": "stream",
     "text": [
      "N-Body (C) Flavio Manoel, v1.6.4\n",
      "N = 32768 corpos, dt = 0.01s, M = 1 interações\n",
      "Código executado em 1767.118575 s\n"
     ]
    }
   ],
   "source": [
    "t_all_py, t_py, erro_py = run_nbody(gravitationalNbody_NumbaCPU.py_func, n_cube_edge=n_cube_edge, ninter=ninter, \n",
    "                                    dt=dt, flag_array=False, flag_compile=False)"
   ]
  },
  {
   "cell_type": "markdown",
   "metadata": {
    "colab_type": "text",
    "heading_collapsed": true,
    "id": "97hKery-0Hzq"
   },
   "source": [
    "### Teste de nbody em Python (com NumPy arrays)"
   ]
  },
  {
   "cell_type": "code",
   "execution_count": 31,
   "metadata": {
    "ExecuteTime": {
     "end_time": "2019-02-22T03:34:25.299078Z",
     "start_time": "2019-02-22T03:34:09.753660Z"
    },
    "colab": {},
    "colab_type": "code",
    "hidden": true,
    "id": "q9zmJEXA0Hzs"
   },
   "outputs": [],
   "source": [
    "#t_all_py_a, t_py_a, erro_py_a = run_nbody(gravitationalNbody_NumbaCPU.py_func, n_cube_edge=n_cube_edge, \n",
    "#                                          ninter=ninter, dt=dt, flag_Energy=True, flag_compile=False)"
   ]
  },
  {
   "cell_type": "code",
   "execution_count": 32,
   "metadata": {
    "ExecuteTime": {
     "end_time": "2019-02-22T03:34:38.355190Z",
     "start_time": "2019-02-22T03:34:25.301203Z"
    },
    "colab": {},
    "colab_type": "code",
    "hidden": true,
    "id": "MBn-kDRI0Hzz"
   },
   "outputs": [],
   "source": [
    "#t_all_py_a, t_py_a, erro_py_a = run_nbody(gravitationalNbody_NumbaCPU.py_func, n_cube_edge=n_cube_edge, \n",
    "#                                          ninter=ninter, dt=dt, flag_compile=False)"
   ]
  },
  {
   "cell_type": "markdown",
   "metadata": {
    "colab_type": "text",
    "id": "apxVbBW20H0D"
   },
   "source": [
    "### Teste de nbody em Python NumPy"
   ]
  },
  {
   "cell_type": "code",
   "execution_count": 33,
   "metadata": {
    "ExecuteTime": {
     "end_time": "2019-02-22T03:34:40.817749Z",
     "start_time": "2019-02-22T03:34:38.356633Z"
    },
    "colab": {},
    "colab_type": "code",
    "id": "KLfoiQ1p0H0H"
   },
   "outputs": [],
   "source": [
    "#t_all_np, t_np, erro_np = run_nbody(gravitationalNbody_NumPy_NumbaCPU.py_func, n_cube_edge=n_cube_edge, \n",
    "#                                    ninter=ninter, dt=dt, flag_Energy=True, flag_compile=False)"
   ]
  },
  {
   "cell_type": "code",
   "execution_count": 34,
   "metadata": {
    "ExecuteTime": {
     "end_time": "2019-02-22T03:34:41.061419Z",
     "start_time": "2019-02-22T03:34:40.819765Z"
    },
    "colab": {
     "base_uri": "https://localhost:8080/",
     "height": 68
    },
    "colab_type": "code",
    "executionInfo": {
     "elapsed": 1526017,
     "status": "ok",
     "timestamp": 1561849867995,
     "user": {
      "displayName": "Flávio Manoel S. Hemerli",
      "photoUrl": "https://lh6.googleusercontent.com/-3s49zZ8Nl4A/AAAAAAAAAAI/AAAAAAAAdhI/aq_CP_N9-m0/s64/photo.jpg",
      "userId": "09649309852471529099"
     },
     "user_tz": 180
    },
    "id": "4xRDy46L0H0e",
    "outputId": "fd0a3da3-d84b-4990-94c2-83aa171c5564"
   },
   "outputs": [
    {
     "name": "stdout",
     "output_type": "stream",
     "text": [
      "N-Body (C) Flavio Manoel, v1.6.4\n",
      "N = 32768 corpos, dt = 0.01s, M = 1 interações\n",
      "Código executado em 77.771225 s\n"
     ]
    }
   ],
   "source": [
    "t_all_np, t_np, erro_np = run_nbody(gravitationalNbody_NumPy_NumbaCPU.py_func, n_cube_edge=n_cube_edge, \n",
    "                                    ninter=ninter, dt=dt, flag_compile=False)"
   ]
  },
  {
   "cell_type": "markdown",
   "metadata": {
    "colab_type": "text",
    "id": "pD7FfMk50H0r"
   },
   "source": [
    "### Teste de nbody em Python Numba CPU"
   ]
  },
  {
   "cell_type": "code",
   "execution_count": 35,
   "metadata": {
    "ExecuteTime": {
     "end_time": "2019-02-22T03:47:58.283317Z",
     "start_time": "2019-02-22T03:47:02.405162Z"
    },
    "colab": {},
    "colab_type": "code",
    "id": "sLpagY_u0H0t"
   },
   "outputs": [],
   "source": [
    "#t_all_nb, t_nb, erro_nb = run_nbody(gravitationalNbody_NumbaCPU, n_cube_edge=n_cube_edge, ninter=ninter, \n",
    "#                                    dt=dt, flag_Energy=True)"
   ]
  },
  {
   "cell_type": "code",
   "execution_count": 36,
   "metadata": {
    "ExecuteTime": {
     "end_time": "2019-02-22T03:48:48.674286Z",
     "start_time": "2019-02-22T03:47:58.285054Z"
    },
    "colab": {
     "base_uri": "https://localhost:8080/",
     "height": 136
    },
    "colab_type": "code",
    "executionInfo": {
     "elapsed": 1549959,
     "status": "ok",
     "timestamp": 1561849891939,
     "user": {
      "displayName": "Flávio Manoel S. Hemerli",
      "photoUrl": "https://lh6.googleusercontent.com/-3s49zZ8Nl4A/AAAAAAAAAAI/AAAAAAAAdhI/aq_CP_N9-m0/s64/photo.jpg",
      "userId": "09649309852471529099"
     },
     "user_tz": 180
    },
    "id": "LK2mQdIc0H00",
    "outputId": "430cca07-8deb-4acf-f767-cd2f253910b9"
   },
   "outputs": [
    {
     "name": "stdout",
     "output_type": "stream",
     "text": [
      "N-Body (C) Flavio Manoel, v1.6.4\n",
      "N = 32768 corpos, dt = 0.01s, M = 1 interações\n",
      "Código executado em 13.012713 s\n",
      "\n",
      "N-Body (C) Flavio Manoel, v1.6.4\n",
      "N = 32768 corpos, dt = 0.01s, M = 1 interações\n",
      "Código executado em 11.569205 s\n"
     ]
    }
   ],
   "source": [
    "t_all_nb, t_nb, erro_nb = run_nbody(gravitationalNbody_NumbaCPU, n_cube_edge=n_cube_edge, ninter=ninter, \n",
    "                                    dt=dt)"
   ]
  },
  {
   "cell_type": "markdown",
   "metadata": {
    "colab_type": "text",
    "id": "V9qekFH50H09"
   },
   "source": [
    "### Teste de nbody em NumPy Numba CPU"
   ]
  },
  {
   "cell_type": "code",
   "execution_count": 37,
   "metadata": {
    "ExecuteTime": {
     "end_time": "2019-02-22T03:34:43.000602Z",
     "start_time": "2019-02-22T03:34:41.637749Z"
    },
    "colab": {},
    "colab_type": "code",
    "id": "bipEIdIz0H0_"
   },
   "outputs": [],
   "source": [
    "#t_all_np_nb, t_np_nb, erro_np_nb = run_nbody(gravitationalNbody_NumPy_NumbaCPU, n_cube_edge=n_cube_edge, \n",
    "#                                             ninter=ninter, dt=dt, flag_Energy=True)"
   ]
  },
  {
   "cell_type": "code",
   "execution_count": 38,
   "metadata": {
    "ExecuteTime": {
     "end_time": "2019-02-22T03:34:43.167629Z",
     "start_time": "2019-02-22T03:34:43.001941Z"
    },
    "colab": {
     "base_uri": "https://localhost:8080/",
     "height": 136
    },
    "colab_type": "code",
    "executionInfo": {
     "elapsed": 1631914,
     "status": "ok",
     "timestamp": 1561849973899,
     "user": {
      "displayName": "Flávio Manoel S. Hemerli",
      "photoUrl": "https://lh6.googleusercontent.com/-3s49zZ8Nl4A/AAAAAAAAAAI/AAAAAAAAdhI/aq_CP_N9-m0/s64/photo.jpg",
      "userId": "09649309852471529099"
     },
     "user_tz": 180
    },
    "id": "a-ufXIU10H1F",
    "outputId": "85c4bffd-d11f-4864-d188-7519e94294b4"
   },
   "outputs": [
    {
     "name": "stdout",
     "output_type": "stream",
     "text": [
      "N-Body (C) Flavio Manoel, v1.6.4\n",
      "N = 32768 corpos, dt = 0.01s, M = 1 interações\n",
      "Código executado em 46.344702 s\n",
      "\n",
      "N-Body (C) Flavio Manoel, v1.6.4\n",
      "N = 32768 corpos, dt = 0.01s, M = 1 interações\n",
      "Código executado em 42.473009 s\n"
     ]
    }
   ],
   "source": [
    "t_all_np_nb, t_np_nb, erro_np_nb = run_nbody(gravitationalNbody_NumPy_NumbaCPU, n_cube_edge=n_cube_edge, \n",
    "                                             ninter=ninter, dt=dt)"
   ]
  },
  {
   "cell_type": "markdown",
   "metadata": {
    "colab_type": "text",
    "id": "mR7LDNdk0H1U"
   },
   "source": [
    "### Teste de nbody em Python Numba CPU //"
   ]
  },
  {
   "cell_type": "code",
   "execution_count": 39,
   "metadata": {
    "ExecuteTime": {
     "end_time": "2019-02-22T03:49:14.874088Z",
     "start_time": "2019-02-22T03:49:04.091509Z"
    },
    "colab": {},
    "colab_type": "code",
    "id": "zWtDmBF40H1d"
   },
   "outputs": [],
   "source": [
    "#t_all_nb_parallel, t_nb_parallel, erro_nb_parallel = run_nbody(gravitationalNbody_NumbaCPUparallel, \n",
    "#                                             n_cube_edge=n_cube_edge, ninter=ninter, dt=dt, flag_Energy=True)"
   ]
  },
  {
   "cell_type": "code",
   "execution_count": 40,
   "metadata": {
    "ExecuteTime": {
     "end_time": "2019-02-22T03:49:22.500965Z",
     "start_time": "2019-02-22T03:49:14.875640Z"
    },
    "colab": {
     "base_uri": "https://localhost:8080/",
     "height": 136
    },
    "colab_type": "code",
    "executionInfo": {
     "elapsed": 1647836,
     "status": "ok",
     "timestamp": 1561849989823,
     "user": {
      "displayName": "Flávio Manoel S. Hemerli",
      "photoUrl": "https://lh6.googleusercontent.com/-3s49zZ8Nl4A/AAAAAAAAAAI/AAAAAAAAdhI/aq_CP_N9-m0/s64/photo.jpg",
      "userId": "09649309852471529099"
     },
     "user_tz": 180
    },
    "id": "kYV9UqeE0H1o",
    "outputId": "95999136-c5ef-4587-de86-41843d6f9f2c"
   },
   "outputs": [
    {
     "name": "stdout",
     "output_type": "stream",
     "text": [
      "N-Body (C) Flavio Manoel, v1.6.4\n",
      "N = 32768 corpos, dt = 0.01s, M = 1 interações\n",
      "Código executado em 9.452768 s\n",
      "\n",
      "N-Body (C) Flavio Manoel, v1.6.4\n",
      "N = 32768 corpos, dt = 0.01s, M = 1 interações\n",
      "Código executado em 3.450267 s\n"
     ]
    }
   ],
   "source": [
    "t_all_nb_parallel, t_nb_parallel, erro_nb_parallel = run_nbody(gravitationalNbody_NumbaCPUparallel, \n",
    "                                                               n_cube_edge=n_cube_edge, ninter=ninter, dt=dt)"
   ]
  },
  {
   "cell_type": "markdown",
   "metadata": {
    "colab_type": "text",
    "id": "8y86IIQl0H11"
   },
   "source": [
    "### Teste de nbody em NumPy Numba CPU //"
   ]
  },
  {
   "cell_type": "code",
   "execution_count": 41,
   "metadata": {
    "ExecuteTime": {
     "end_time": "2019-02-22T03:34:49.873079Z",
     "start_time": "2019-02-22T03:34:45.077052Z"
    },
    "colab": {},
    "colab_type": "code",
    "id": "7ldrhFx80H14"
   },
   "outputs": [],
   "source": [
    "#t_all_np_nb_parallel, t_np_nb_parallel, erro_np_nb_parallel = run_nbody(\n",
    "#    gravitationalNbody_NumPy_NumbaCPUparallel, n_cube_edge=n_cube_edge, ninter=ninter, dt=dt, flag_Energy=True)"
   ]
  },
  {
   "cell_type": "code",
   "execution_count": 42,
   "metadata": {
    "ExecuteTime": {
     "end_time": "2019-02-22T03:34:49.910032Z",
     "start_time": "2019-02-22T03:34:49.874283Z"
    },
    "colab": {
     "base_uri": "https://localhost:8080/",
     "height": 136
    },
    "colab_type": "code",
    "executionInfo": {
     "elapsed": 1687324,
     "status": "ok",
     "timestamp": 1561850029313,
     "user": {
      "displayName": "Flávio Manoel S. Hemerli",
      "photoUrl": "https://lh6.googleusercontent.com/-3s49zZ8Nl4A/AAAAAAAAAAI/AAAAAAAAdhI/aq_CP_N9-m0/s64/photo.jpg",
      "userId": "09649309852471529099"
     },
     "user_tz": 180
    },
    "id": "jFJlwUvj0H2G",
    "outputId": "cf1bcbaf-4ae9-499e-e9e6-ae5064e99e2c"
   },
   "outputs": [
    {
     "name": "stdout",
     "output_type": "stream",
     "text": [
      "N-Body (C) Flavio Manoel, v1.6.4\n",
      "N = 32768 corpos, dt = 0.01s, M = 1 interações\n",
      "Código executado em 30.936876 s\n",
      "\n",
      "N-Body (C) Flavio Manoel, v1.6.4\n",
      "N = 32768 corpos, dt = 0.01s, M = 1 interações\n",
      "Código executado em 20.171964 s\n"
     ]
    }
   ],
   "source": [
    "t_all_np_nb_parallel, t_np_nb_parallel, erro_np_nb_parallel = run_nbody(\n",
    "                    gravitationalNbody_NumPy_NumbaCPUparallel, n_cube_edge=n_cube_edge, ninter=ninter, dt=dt)"
   ]
  },
  {
   "cell_type": "markdown",
   "metadata": {
    "colab_type": "text",
    "id": "SZqHB5do0H2c"
   },
   "source": [
    "### Teste de nbody em Python Numba GPU 64 bits (double precision)"
   ]
  },
  {
   "cell_type": "code",
   "execution_count": 43,
   "metadata": {
    "ExecuteTime": {
     "end_time": "2019-02-22T03:50:06.719124Z",
     "start_time": "2019-02-22T03:49:56.925051Z"
    },
    "colab": {},
    "colab_type": "code",
    "id": "1KtGiG8x0H2i"
   },
   "outputs": [],
   "source": [
    "#t_all_gpu, t_gpu, erro_gpu = run_nbody(gravitationalNbody_NumbaGPU64, n_cube_edge=n_cube_edge, \n",
    "#                                       ninter=ninter, dt=dt, flag_Energy=True)"
   ]
  },
  {
   "cell_type": "code",
   "execution_count": 44,
   "metadata": {
    "ExecuteTime": {
     "end_time": "2019-02-22T03:50:27.303843Z",
     "start_time": "2019-02-22T03:50:19.933664Z"
    },
    "colab": {
     "base_uri": "https://localhost:8080/",
     "height": 306
    },
    "colab_type": "code",
    "executionInfo": {
     "elapsed": 1689050,
     "status": "ok",
     "timestamp": 1561850031043,
     "user": {
      "displayName": "Flávio Manoel S. Hemerli",
      "photoUrl": "https://lh6.googleusercontent.com/-3s49zZ8Nl4A/AAAAAAAAAAI/AAAAAAAAdhI/aq_CP_N9-m0/s64/photo.jpg",
      "userId": "09649309852471529099"
     },
     "user_tz": 180
    },
    "id": "O8S4qQZV0H22",
    "outputId": "dc78fd22-a9a8-4a86-a789-3fc42dde43f6"
   },
   "outputs": [
    {
     "name": "stdout",
     "output_type": "stream",
     "text": [
      "N-Body (C) Flavio Manoel, v1.6.4\n",
      "N = 32768 corpos, dt = 0.01s, M = 1 interações\n"
     ]
    },
    {
     "name": "stderr",
     "output_type": "stream",
     "text": [
      "<ipython-input-26-3e2a23bd9eea>:1: NumbaWarning: \u001b[1m\n",
      "Compilation is falling back to object mode WITH looplifting enabled because Function \"gravitationalNbody_NumbaGPU64\" failed type inference due to: \u001b[1mUntyped global name 'timer':\u001b[0m \u001b[1m\u001b[1mcannot determine Numba type of <class 'builtin_function_or_method'>\u001b[0m\n",
      "\u001b[1m\n",
      "File \"<ipython-input-26-3e2a23bd9eea>\", line 6:\u001b[0m\n",
      "\u001b[1mdef gravitationalNbody_NumbaGPU64(r, v, a, m, nobj, ninter, dt, flag_Energy=False):\n",
      "    <source elided>\n",
      "    print(\"Threads per block = {}; Blocks per grid = {}\".format(threadsperblock, blockspergrid))\n",
      "\u001b[1m    htod_ti = timer()\n",
      "\u001b[0m    \u001b[1m^\u001b[0m\u001b[0m\n",
      "\u001b[0m\u001b[0m\n",
      "  @jit(parallel=True)\n",
      "<ipython-input-26-3e2a23bd9eea>:1: NumbaWarning: \u001b[1m\n",
      "Compilation is falling back to object mode WITHOUT looplifting enabled because Function \"gravitationalNbody_NumbaGPU64\" failed type inference due to: \u001b[1mUntyped global name 'timer':\u001b[0m \u001b[1m\u001b[1mcannot determine Numba type of <class 'builtin_function_or_method'>\u001b[0m\n",
      "\u001b[1m\n",
      "File \"<ipython-input-26-3e2a23bd9eea>\", line 6:\u001b[0m\n",
      "\u001b[1mdef gravitationalNbody_NumbaGPU64(r, v, a, m, nobj, ninter, dt, flag_Energy=False):\n",
      "    <source elided>\n",
      "    print(\"Threads per block = {}; Blocks per grid = {}\".format(threadsperblock, blockspergrid))\n",
      "\u001b[1m    htod_ti = timer()\n",
      "\u001b[0m    \u001b[1m^\u001b[0m\u001b[0m\n",
      "\u001b[0m\u001b[0m\n",
      "  @jit(parallel=True)\n",
      "/home/botouls/.anaconda/lib/python3.7/site-packages/numba/object_mode_passes.py:178: NumbaWarning: \u001b[1mFunction \"gravitationalNbody_NumbaGPU64\" was compiled in object mode without forceobj=True, but has lifted loops.\n",
      "\u001b[1m\n",
      "File \"<ipython-input-26-3e2a23bd9eea>\", line 2:\u001b[0m\n",
      "\u001b[1m@jit(parallel=True)\n",
      "\u001b[1mdef gravitationalNbody_NumbaGPU64(r, v, a, m, nobj, ninter, dt, flag_Energy=False):\n",
      "\u001b[0m\u001b[1m^\u001b[0m\u001b[0m\n",
      "\u001b[0m\n",
      "  state.func_ir.loc))\n",
      "/home/botouls/.anaconda/lib/python3.7/site-packages/numba/object_mode_passes.py:187: NumbaDeprecationWarning: \u001b[1m\n",
      "Fall-back from the nopython compilation path to the object mode compilation path has been detected, this is deprecated behaviour.\n",
      "\n",
      "For more information visit http://numba.pydata.org/numba-doc/latest/reference/deprecation.html#deprecation-of-object-mode-fall-back-behaviour-when-using-jit\n",
      "\u001b[1m\n",
      "File \"<ipython-input-26-3e2a23bd9eea>\", line 2:\u001b[0m\n",
      "\u001b[1m@jit(parallel=True)\n",
      "\u001b[1mdef gravitationalNbody_NumbaGPU64(r, v, a, m, nobj, ninter, dt, flag_Energy=False):\n",
      "\u001b[0m\u001b[1m^\u001b[0m\u001b[0m\n",
      "\u001b[0m\n",
      "  warnings.warn(errors.NumbaDeprecationWarning(msg, state.func_ir.loc))\n",
      "<ipython-input-26-3e2a23bd9eea>:1: NumbaWarning: \u001b[1m\n",
      "Compilation is falling back to object mode WITHOUT looplifting enabled because Function \"gravitationalNbody_NumbaGPU64\" failed type inference due to: \u001b[1mUntyped global name 'gravitationalNbody_a_v_ij_NumbaGPU64':\u001b[0m \u001b[1m\u001b[1mcannot determine Numba type of <class 'numba.cuda.compiler.CUDAKernel'>\u001b[0m\n",
      "\u001b[1m\n",
      "File \"<ipython-input-26-3e2a23bd9eea>\", line 10:\u001b[0m\n",
      "\u001b[1mdef gravitationalNbody_NumbaGPU64(r, v, a, m, nobj, ninter, dt, flag_Energy=False):\n",
      "    <source elided>\n",
      "    for inter in range(ninter):\n",
      "\u001b[1m        gravitationalNbody_a_v_ij_NumbaGPU64[blockspergrid, threadsperblock](d_r, d_v, d_a, d_m, nobj, dt)\n",
      "\u001b[0m        \u001b[1m^\u001b[0m\u001b[0m\n",
      "\u001b[0m\u001b[0m\n",
      "  @jit(parallel=True)\n"
     ]
    },
    {
     "name": "stdout",
     "output_type": "stream",
     "text": [
      "Threads per block = 128; Blocks per grid = 256\n"
     ]
    },
    {
     "name": "stderr",
     "output_type": "stream",
     "text": [
      "/home/botouls/.anaconda/lib/python3.7/site-packages/numba/object_mode_passes.py:178: NumbaWarning: \u001b[1mFunction \"gravitationalNbody_NumbaGPU64\" was compiled in object mode without forceobj=True.\n",
      "\u001b[1m\n",
      "File \"<ipython-input-26-3e2a23bd9eea>\", line 9:\u001b[0m\n",
      "\u001b[1mdef gravitationalNbody_NumbaGPU64(r, v, a, m, nobj, ninter, dt, flag_Energy=False):\n",
      "    <source elided>\n",
      "    htod_tf = timer()\n",
      "\u001b[1m    for inter in range(ninter):\n",
      "\u001b[0m    \u001b[1m^\u001b[0m\u001b[0m\n",
      "\u001b[0m\n",
      "  state.func_ir.loc))\n",
      "/home/botouls/.anaconda/lib/python3.7/site-packages/numba/object_mode_passes.py:187: NumbaDeprecationWarning: \u001b[1m\n",
      "Fall-back from the nopython compilation path to the object mode compilation path has been detected, this is deprecated behaviour.\n",
      "\n",
      "For more information visit http://numba.pydata.org/numba-doc/latest/reference/deprecation.html#deprecation-of-object-mode-fall-back-behaviour-when-using-jit\n",
      "\u001b[1m\n",
      "File \"<ipython-input-26-3e2a23bd9eea>\", line 9:\u001b[0m\n",
      "\u001b[1mdef gravitationalNbody_NumbaGPU64(r, v, a, m, nobj, ninter, dt, flag_Energy=False):\n",
      "    <source elided>\n",
      "    htod_tf = timer()\n",
      "\u001b[1m    for inter in range(ninter):\n",
      "\u001b[0m    \u001b[1m^\u001b[0m\u001b[0m\n",
      "\u001b[0m\n",
      "  warnings.warn(errors.NumbaDeprecationWarning(msg, state.func_ir.loc))\n"
     ]
    },
    {
     "name": "stdout",
     "output_type": "stream",
     "text": [
      "Copied data from CPU to GPU after 0.0074184469995088875 s\n",
      "GPU calculations done after 2.0943254000003435 s\n",
      "Copied data from GPU to CPU after 0.001925556000060169 s\n",
      "Copies CPU<->GPU and GPU calculations after 2.1036694029999126 s\n",
      "Código executado em 3.221841 s\n",
      "\n",
      "N-Body (C) Flavio Manoel, v1.6.4\n",
      "N = 32768 corpos, dt = 0.01s, M = 1 interações\n",
      "Threads per block = 128; Blocks per grid = 256\n",
      "Copied data from CPU to GPU after 0.003882082000018272 s\n",
      "GPU calculations done after 1.2741588529997898 s\n",
      "Copied data from GPU to CPU after 0.0017684869999357034 s\n",
      "Copies CPU<->GPU and GPU calculations after 1.2798094219997438 s\n",
      "Código executado em 1.280122 s\n"
     ]
    }
   ],
   "source": [
    "t_all_gpu, t_gpu, erro_gpu = run_nbody(gravitationalNbody_NumbaGPU64, n_cube_edge=n_cube_edge, \n",
    "                                       ninter=ninter, dt=dt)"
   ]
  },
  {
   "cell_type": "markdown",
   "metadata": {
    "colab_type": "text",
    "id": "yHHsqqwO0H3C"
   },
   "source": [
    "### Resultados e comparações"
   ]
  },
  {
   "cell_type": "markdown",
   "metadata": {
    "colab_type": "text",
    "id": "tvjiv_QK0H3D"
   },
   "source": [
    "Speed up of pure Python with respect to Python (with NumPy arrays)  :"
   ]
  },
  {
   "cell_type": "code",
   "execution_count": 45,
   "metadata": {
    "ExecuteTime": {
     "end_time": "2019-02-22T03:37:01.609396Z",
     "start_time": "2019-02-22T03:37:01.606661Z"
    },
    "colab": {},
    "colab_type": "code",
    "id": "ayD9pEIS0H3F"
   },
   "outputs": [],
   "source": [
    "#t_py_a / t_py"
   ]
  },
  {
   "cell_type": "markdown",
   "metadata": {
    "colab_type": "text",
    "id": "9WdKRvm-0H3O"
   },
   "source": [
    "Speed up of Python NumPy with respect to pure Python :"
   ]
  },
  {
   "cell_type": "code",
   "execution_count": 46,
   "metadata": {
    "ExecuteTime": {
     "end_time": "2019-02-22T03:37:02.221099Z",
     "start_time": "2019-02-22T03:37:02.218247Z"
    },
    "colab": {
     "base_uri": "https://localhost:8080/",
     "height": 34
    },
    "colab_type": "code",
    "executionInfo": {
     "elapsed": 1689052,
     "status": "ok",
     "timestamp": 1561850031048,
     "user": {
      "displayName": "Flávio Manoel S. Hemerli",
      "photoUrl": "https://lh6.googleusercontent.com/-3s49zZ8Nl4A/AAAAAAAAAAI/AAAAAAAAdhI/aq_CP_N9-m0/s64/photo.jpg",
      "userId": "09649309852471529099"
     },
     "user_tz": 180
    },
    "id": "Io6-7Ng60H3R",
    "outputId": "68c856c4-0ec2-4419-f354-30dc3c8170d4"
   },
   "outputs": [
    {
     "data": {
      "text/plain": [
       "22.722010255537267"
      ]
     },
     "execution_count": 46,
     "metadata": {},
     "output_type": "execute_result"
    }
   ],
   "source": [
    "t_py / t_np"
   ]
  },
  {
   "cell_type": "markdown",
   "metadata": {
    "colab_type": "text",
    "id": "Qf7c9AOp0H3Y"
   },
   "source": [
    "Speed up of Python Numba CPU (serial) with respect to pure Python :"
   ]
  },
  {
   "cell_type": "code",
   "execution_count": 47,
   "metadata": {
    "ExecuteTime": {
     "end_time": "2019-02-22T03:37:02.576229Z",
     "start_time": "2019-02-22T03:37:02.573608Z"
    },
    "colab": {
     "base_uri": "https://localhost:8080/",
     "height": 34
    },
    "colab_type": "code",
    "executionInfo": {
     "elapsed": 1689052,
     "status": "ok",
     "timestamp": 1561850031049,
     "user": {
      "displayName": "Flávio Manoel S. Hemerli",
      "photoUrl": "https://lh6.googleusercontent.com/-3s49zZ8Nl4A/AAAAAAAAAAI/AAAAAAAAdhI/aq_CP_N9-m0/s64/photo.jpg",
      "userId": "09649309852471529099"
     },
     "user_tz": 180
    },
    "id": "eeUOrVHp0H3Z",
    "outputId": "96e605d1-b8c0-4d74-bca0-d7c81de84282"
   },
   "outputs": [
    {
     "data": {
      "text/plain": [
       "152.74330449417403"
      ]
     },
     "execution_count": 47,
     "metadata": {},
     "output_type": "execute_result"
    }
   ],
   "source": [
    "t_py / t_nb"
   ]
  },
  {
   "cell_type": "markdown",
   "metadata": {
    "colab_type": "text",
    "id": "hHyddsF00H3l"
   },
   "source": [
    "Speed up of Python Numba CPU (serial) with respect to Python (with NumPy arrays) :"
   ]
  },
  {
   "cell_type": "code",
   "execution_count": 48,
   "metadata": {
    "ExecuteTime": {
     "end_time": "2019-02-22T03:37:02.973715Z",
     "start_time": "2019-02-22T03:37:02.970938Z"
    },
    "colab": {},
    "colab_type": "code",
    "id": "l92JBM4T0H3o"
   },
   "outputs": [],
   "source": [
    "#t_py_a / t_nb"
   ]
  },
  {
   "cell_type": "markdown",
   "metadata": {
    "colab_type": "text",
    "id": "M1I0DhPc0H3w"
   },
   "source": [
    "Speed up of Python Numba CPU (serial) with respect to Python NumPy :"
   ]
  },
  {
   "cell_type": "code",
   "execution_count": 49,
   "metadata": {
    "ExecuteTime": {
     "end_time": "2019-02-22T03:37:03.965970Z",
     "start_time": "2019-02-22T03:37:03.963307Z"
    },
    "colab": {
     "base_uri": "https://localhost:8080/",
     "height": 34
    },
    "colab_type": "code",
    "executionInfo": {
     "elapsed": 1689058,
     "status": "ok",
     "timestamp": 1561850031059,
     "user": {
      "displayName": "Flávio Manoel S. Hemerli",
      "photoUrl": "https://lh6.googleusercontent.com/-3s49zZ8Nl4A/AAAAAAAAAAI/AAAAAAAAdhI/aq_CP_N9-m0/s64/photo.jpg",
      "userId": "09649309852471529099"
     },
     "user_tz": 180
    },
    "id": "zjZCCygc0H3y",
    "outputId": "8a0b4fd8-65b0-466d-c381-c39ef7ba6e98"
   },
   "outputs": [
    {
     "data": {
      "text/plain": [
       "6.722261929133275"
      ]
     },
     "execution_count": 49,
     "metadata": {},
     "output_type": "execute_result"
    }
   ],
   "source": [
    "t_np / t_nb"
   ]
  },
  {
   "cell_type": "markdown",
   "metadata": {
    "colab_type": "text",
    "id": "JaI7baYd0H4A"
   },
   "source": [
    "Speed up of NumPy Numba CPU (serial) with respect to pure Python :"
   ]
  },
  {
   "cell_type": "code",
   "execution_count": 50,
   "metadata": {
    "ExecuteTime": {
     "end_time": "2019-02-22T03:37:05.226477Z",
     "start_time": "2019-02-22T03:37:05.223731Z"
    },
    "colab": {
     "base_uri": "https://localhost:8080/",
     "height": 34
    },
    "colab_type": "code",
    "executionInfo": {
     "elapsed": 1689058,
     "status": "ok",
     "timestamp": 1561850031061,
     "user": {
      "displayName": "Flávio Manoel S. Hemerli",
      "photoUrl": "https://lh6.googleusercontent.com/-3s49zZ8Nl4A/AAAAAAAAAAI/AAAAAAAAdhI/aq_CP_N9-m0/s64/photo.jpg",
      "userId": "09649309852471529099"
     },
     "user_tz": 180
    },
    "id": "mTpCfCDl0H4D",
    "outputId": "cfcf5137-4686-42ea-aafc-8745a4d49887"
   },
   "outputs": [
    {
     "data": {
      "text/plain": [
       "41.60568372736662"
      ]
     },
     "execution_count": 50,
     "metadata": {},
     "output_type": "execute_result"
    }
   ],
   "source": [
    "t_py / t_np_nb"
   ]
  },
  {
   "cell_type": "markdown",
   "metadata": {
    "colab_type": "text",
    "id": "SeoGDHZ60H4K"
   },
   "source": [
    "Speed up of NumPy Numba CPU (serial) with respect to Python NumPy :"
   ]
  },
  {
   "cell_type": "code",
   "execution_count": 51,
   "metadata": {
    "ExecuteTime": {
     "end_time": "2019-02-22T03:37:06.062259Z",
     "start_time": "2019-02-22T03:37:06.059320Z"
    },
    "colab": {
     "base_uri": "https://localhost:8080/",
     "height": 34
    },
    "colab_type": "code",
    "executionInfo": {
     "elapsed": 1689058,
     "status": "ok",
     "timestamp": 1561850031062,
     "user": {
      "displayName": "Flávio Manoel S. Hemerli",
      "photoUrl": "https://lh6.googleusercontent.com/-3s49zZ8Nl4A/AAAAAAAAAAI/AAAAAAAAdhI/aq_CP_N9-m0/s64/photo.jpg",
      "userId": "09649309852471529099"
     },
     "user_tz": 180
    },
    "id": "R1ZoXtqX0H4N",
    "outputId": "573bc1df-efa9-4643-86ce-01969530bb59"
   },
   "outputs": [
    {
     "data": {
      "text/plain": [
       "1.8310740669271317"
      ]
     },
     "execution_count": 51,
     "metadata": {},
     "output_type": "execute_result"
    }
   ],
   "source": [
    "t_np / t_np_nb"
   ]
  },
  {
   "cell_type": "markdown",
   "metadata": {
    "colab_type": "text",
    "id": "rwp1KC3L0H4V"
   },
   "source": [
    "Speed up of Python Numba CPU // with respect to pure Python :"
   ]
  },
  {
   "cell_type": "code",
   "execution_count": 52,
   "metadata": {
    "ExecuteTime": {
     "end_time": "2019-02-22T03:37:06.455820Z",
     "start_time": "2019-02-22T03:37:06.453048Z"
    },
    "colab": {
     "base_uri": "https://localhost:8080/",
     "height": 34
    },
    "colab_type": "code",
    "executionInfo": {
     "elapsed": 1689058,
     "status": "ok",
     "timestamp": 1561850031063,
     "user": {
      "displayName": "Flávio Manoel S. Hemerli",
      "photoUrl": "https://lh6.googleusercontent.com/-3s49zZ8Nl4A/AAAAAAAAAAI/AAAAAAAAdhI/aq_CP_N9-m0/s64/photo.jpg",
      "userId": "09649309852471529099"
     },
     "user_tz": 180
    },
    "id": "hVVM2mOm0H4X",
    "outputId": "98a84e97-f422-4c11-f3ce-82867a49561c"
   },
   "outputs": [
    {
     "data": {
      "text/plain": [
       "512.1685763417379"
      ]
     },
     "execution_count": 52,
     "metadata": {},
     "output_type": "execute_result"
    }
   ],
   "source": [
    "t_py / t_nb_parallel"
   ]
  },
  {
   "cell_type": "markdown",
   "metadata": {
    "colab_type": "text",
    "id": "k4E7yr2F0H4e"
   },
   "source": [
    "Speed up of Python Numba CPU // with respect to Python (with NumPy arrays) :"
   ]
  },
  {
   "cell_type": "code",
   "execution_count": 53,
   "metadata": {
    "ExecuteTime": {
     "end_time": "2019-02-22T03:37:07.277419Z",
     "start_time": "2019-02-22T03:37:07.273834Z"
    },
    "colab": {},
    "colab_type": "code",
    "id": "nNPghKPf0H4f"
   },
   "outputs": [],
   "source": [
    "#t_py_a / t_nb_parallel"
   ]
  },
  {
   "cell_type": "markdown",
   "metadata": {
    "colab_type": "text",
    "id": "ErVxbvGf0H4r"
   },
   "source": [
    "Speed up of NumPy Numba CPU // with respect to Python NumPy :"
   ]
  },
  {
   "cell_type": "code",
   "execution_count": 54,
   "metadata": {
    "ExecuteTime": {
     "end_time": "2019-02-22T03:37:09.692023Z",
     "start_time": "2019-02-22T03:37:09.688761Z"
    },
    "colab": {
     "base_uri": "https://localhost:8080/",
     "height": 34
    },
    "colab_type": "code",
    "executionInfo": {
     "elapsed": 1689060,
     "status": "ok",
     "timestamp": 1561850031070,
     "user": {
      "displayName": "Flávio Manoel S. Hemerli",
      "photoUrl": "https://lh6.googleusercontent.com/-3s49zZ8Nl4A/AAAAAAAAAAI/AAAAAAAAdhI/aq_CP_N9-m0/s64/photo.jpg",
      "userId": "09649309852471529099"
     },
     "user_tz": 180
    },
    "id": "jC65fXs40H4t",
    "outputId": "f502b594-c080-43c6-c4e8-2db9a5a83353"
   },
   "outputs": [
    {
     "data": {
      "text/plain": [
       "3.8554115616816125"
      ]
     },
     "execution_count": 54,
     "metadata": {},
     "output_type": "execute_result"
    }
   ],
   "source": [
    "t_np / t_np_nb_parallel"
   ]
  },
  {
   "cell_type": "markdown",
   "metadata": {
    "colab_type": "text",
    "id": "i0R0ysQB0H47"
   },
   "source": [
    "Speed up of Python Numba CPU // with respect to Python Numba CPU :"
   ]
  },
  {
   "cell_type": "code",
   "execution_count": 55,
   "metadata": {
    "ExecuteTime": {
     "end_time": "2019-02-22T03:37:11.118495Z",
     "start_time": "2019-02-22T03:37:11.115146Z"
    },
    "colab": {
     "base_uri": "https://localhost:8080/",
     "height": 34
    },
    "colab_type": "code",
    "executionInfo": {
     "elapsed": 1689063,
     "status": "ok",
     "timestamp": 1561850031073,
     "user": {
      "displayName": "Flávio Manoel S. Hemerli",
      "photoUrl": "https://lh6.googleusercontent.com/-3s49zZ8Nl4A/AAAAAAAAAAI/AAAAAAAAdhI/aq_CP_N9-m0/s64/photo.jpg",
      "userId": "09649309852471529099"
     },
     "user_tz": 180
    },
    "id": "2w-46CnD0H48",
    "outputId": "5b636452-832c-4fbe-9216-3a79a9b780e4"
   },
   "outputs": [
    {
     "data": {
      "text/plain": [
       "3.353132748030034"
      ]
     },
     "execution_count": 55,
     "metadata": {},
     "output_type": "execute_result"
    }
   ],
   "source": [
    "t_nb / t_nb_parallel"
   ]
  },
  {
   "cell_type": "markdown",
   "metadata": {
    "colab_type": "text",
    "id": "U6TRVDTf0H5M"
   },
   "source": [
    "Speed up of NumPy Numba CPU // with respect to NumPy Numba CPU :"
   ]
  },
  {
   "cell_type": "code",
   "execution_count": 56,
   "metadata": {
    "ExecuteTime": {
     "end_time": "2019-02-22T03:37:13.025525Z",
     "start_time": "2019-02-22T03:37:13.022664Z"
    },
    "colab": {
     "base_uri": "https://localhost:8080/",
     "height": 34
    },
    "colab_type": "code",
    "executionInfo": {
     "elapsed": 1689577,
     "status": "ok",
     "timestamp": 1561850031590,
     "user": {
      "displayName": "Flávio Manoel S. Hemerli",
      "photoUrl": "https://lh6.googleusercontent.com/-3s49zZ8Nl4A/AAAAAAAAAAI/AAAAAAAAdhI/aq_CP_N9-m0/s64/photo.jpg",
      "userId": "09649309852471529099"
     },
     "user_tz": 180
    },
    "id": "_263ZKuu0H5T",
    "outputId": "d3857621-f63a-4016-bac4-4b79f3eca931"
   },
   "outputs": [
    {
     "data": {
      "text/plain": [
       "2.1055464829730672"
      ]
     },
     "execution_count": 56,
     "metadata": {},
     "output_type": "execute_result"
    }
   ],
   "source": [
    "t_np_nb / t_np_nb_parallel"
   ]
  },
  {
   "cell_type": "markdown",
   "metadata": {
    "colab_type": "text",
    "id": "s1jXlExr0H5e"
   },
   "source": [
    "Speed up of Python Numba GPU 64 bits with respect to pure Python :"
   ]
  },
  {
   "cell_type": "code",
   "execution_count": 57,
   "metadata": {
    "ExecuteTime": {
     "end_time": "2019-02-22T03:37:16.655095Z",
     "start_time": "2019-02-22T03:37:16.651892Z"
    },
    "colab": {
     "base_uri": "https://localhost:8080/",
     "height": 34
    },
    "colab_type": "code",
    "executionInfo": {
     "elapsed": 1689577,
     "status": "ok",
     "timestamp": 1561850031591,
     "user": {
      "displayName": "Flávio Manoel S. Hemerli",
      "photoUrl": "https://lh6.googleusercontent.com/-3s49zZ8Nl4A/AAAAAAAAAAI/AAAAAAAAdhI/aq_CP_N9-m0/s64/photo.jpg",
      "userId": "09649309852471529099"
     },
     "user_tz": 180
    },
    "id": "b59ou_qM0H5f",
    "outputId": "156bc9b1-5ed7-4cf5-8595-99feb506dfb0"
   },
   "outputs": [
    {
     "data": {
      "text/plain": [
       "1380.4297455141075"
      ]
     },
     "execution_count": 57,
     "metadata": {},
     "output_type": "execute_result"
    }
   ],
   "source": [
    "t_py / t_gpu"
   ]
  },
  {
   "cell_type": "markdown",
   "metadata": {
    "colab_type": "text",
    "id": "loQqrU340H5v"
   },
   "source": [
    "Speed up of Python Numba GPU 64 bits with respect to Python (with NumPy arrays) :"
   ]
  },
  {
   "cell_type": "code",
   "execution_count": 58,
   "metadata": {
    "ExecuteTime": {
     "end_time": "2019-02-22T03:37:19.592403Z",
     "start_time": "2019-02-22T03:37:19.589619Z"
    },
    "colab": {},
    "colab_type": "code",
    "id": "e6DJrORH0H5y"
   },
   "outputs": [],
   "source": [
    "#t_py_a / t_gpu"
   ]
  },
  {
   "cell_type": "markdown",
   "metadata": {
    "colab_type": "text",
    "id": "vlXOXz6_0H57"
   },
   "source": [
    "Speed up of NumPy Numba GPU 64 bits  with respect to Python NumPy :"
   ]
  },
  {
   "cell_type": "code",
   "execution_count": 59,
   "metadata": {
    "ExecuteTime": {
     "end_time": "2019-02-22T03:37:19.954392Z",
     "start_time": "2019-02-22T03:37:19.951217Z"
    },
    "colab": {
     "base_uri": "https://localhost:8080/",
     "height": 34
    },
    "colab_type": "code",
    "executionInfo": {
     "elapsed": 1689579,
     "status": "ok",
     "timestamp": 1561850031596,
     "user": {
      "displayName": "Flávio Manoel S. Hemerli",
      "photoUrl": "https://lh6.googleusercontent.com/-3s49zZ8Nl4A/AAAAAAAAAAI/AAAAAAAAdhI/aq_CP_N9-m0/s64/photo.jpg",
      "userId": "09649309852471529099"
     },
     "user_tz": 180
    },
    "id": "sippa2s00H5_",
    "outputId": "e295c472-03e6-44a3-967c-d8db2775f2e3"
   },
   "outputs": [
    {
     "data": {
      "text/plain": [
       "60.75297607867693"
      ]
     },
     "execution_count": 59,
     "metadata": {},
     "output_type": "execute_result"
    }
   ],
   "source": [
    "t_np / t_gpu"
   ]
  },
  {
   "cell_type": "markdown",
   "metadata": {
    "colab_type": "text",
    "id": "iJ83_Vgc0H6G"
   },
   "source": [
    "Speed up of Python Numba GPU 64 bits  with respect to Python Numba CPU (serial) :"
   ]
  },
  {
   "cell_type": "code",
   "execution_count": 60,
   "metadata": {
    "ExecuteTime": {
     "end_time": "2019-02-22T03:37:20.403335Z",
     "start_time": "2019-02-22T03:37:20.400626Z"
    },
    "colab": {
     "base_uri": "https://localhost:8080/",
     "height": 34
    },
    "colab_type": "code",
    "executionInfo": {
     "elapsed": 1689580,
     "status": "ok",
     "timestamp": 1561850031598,
     "user": {
      "displayName": "Flávio Manoel S. Hemerli",
      "photoUrl": "https://lh6.googleusercontent.com/-3s49zZ8Nl4A/AAAAAAAAAAI/AAAAAAAAdhI/aq_CP_N9-m0/s64/photo.jpg",
      "userId": "09649309852471529099"
     },
     "user_tz": 180
    },
    "id": "i5bbytfO0H6O",
    "outputId": "4785fb79-79db-4932-9c32-6cd8fc42822d"
   },
   "outputs": [
    {
     "data": {
      "text/plain": [
       "9.03757942179888"
      ]
     },
     "execution_count": 60,
     "metadata": {},
     "output_type": "execute_result"
    }
   ],
   "source": [
    "t_nb / t_gpu"
   ]
  },
  {
   "cell_type": "markdown",
   "metadata": {
    "colab_type": "text",
    "id": "2OY30kp40H6T"
   },
   "source": [
    "Speed up of NumPy Numba GPU 64 bits with respect to Python Numba CPU // :"
   ]
  },
  {
   "cell_type": "code",
   "execution_count": 61,
   "metadata": {
    "ExecuteTime": {
     "end_time": "2019-02-22T03:37:21.497505Z",
     "start_time": "2019-02-22T03:37:21.494824Z"
    },
    "colab": {
     "base_uri": "https://localhost:8080/",
     "height": 34
    },
    "colab_type": "code",
    "executionInfo": {
     "elapsed": 1689580,
     "status": "ok",
     "timestamp": 1561850031599,
     "user": {
      "displayName": "Flávio Manoel S. Hemerli",
      "photoUrl": "https://lh6.googleusercontent.com/-3s49zZ8Nl4A/AAAAAAAAAAI/AAAAAAAAdhI/aq_CP_N9-m0/s64/photo.jpg",
      "userId": "09649309852471529099"
     },
     "user_tz": 180
    },
    "id": "RwmLrJiz0H6X",
    "outputId": "cd94edc7-c949-4bff-cbf2-5f80d096e640"
   },
   "outputs": [
    {
     "data": {
      "text/plain": [
       "2.6952644290949888"
      ]
     },
     "execution_count": 61,
     "metadata": {},
     "output_type": "execute_result"
    }
   ],
   "source": [
    "t_nb_parallel / t_gpu"
   ]
  }
 ],
 "metadata": {
  "accelerator": "GPU",
  "colab": {
   "collapsed_sections": [
    "T9vdWw-GfILF",
    "x80NgcamfILK",
    "EAOI7UXifILQ",
    "7rD2D7AeXlzo"
   ],
   "name": "NBody_M1_N32Kcube_Python_x_NumbaCPU_x_NumbaGPU64_GoogleColab_v1.6.4.ipynb",
   "provenance": [],
   "version": "0.3.2"
  },
  "kernelspec": {
   "display_name": "Python 3",
   "language": "python",
   "name": "python3"
  },
  "language_info": {
   "codemirror_mode": {
    "name": "ipython",
    "version": 3
   },
   "file_extension": ".py",
   "mimetype": "text/x-python",
   "name": "python",
   "nbconvert_exporter": "python",
   "pygments_lexer": "ipython3",
   "version": "3.7.4"
  }
 },
 "nbformat": 4,
 "nbformat_minor": 1
}
